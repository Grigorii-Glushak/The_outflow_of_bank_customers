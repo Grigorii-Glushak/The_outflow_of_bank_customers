{
 "cells": [
  {
   "cell_type": "markdown",
   "metadata": {},
   "source": [
    "# Отток клиентов банка"
   ]
  },
  {
   "cell_type": "markdown",
   "metadata": {},
   "source": [
    "***Описание проекта:*** "
   ]
  },
  {
   "cell_type": "markdown",
   "metadata": {},
   "source": [
    "Из «Бета-Банка» стали уходить клиенты. Каждый месяц. Немного, но заметно. Банковские маркетологи посчитали: сохранять текущих клиентов дешевле, чем привлекать новых.\n",
    "\n",
    "Нужно спрогнозировать, уйдёт клиент из банка в ближайшее время или нет. Вам предоставлены исторические данные о поведении клиентов и расторжении договоров с банком. \n",
    "\n",
    "Постройте модель с предельно большим значением *F1*-меры (не менее 0.59).\n",
    "\n",
    "Дополнительно измерьте *AUC-ROC*, сравните её значение с *F1*-мерой.\n",
    "\n",
    "Источник данных для проекта: [https://www.kaggle.com/barelydedicated/bank-customer-churn-modeling](https://www.kaggle.com/barelydedicated/bank-customer-churn-modeling)"
   ]
  },
  {
   "cell_type": "markdown",
   "metadata": {},
   "source": [
    "***Описание данных:***"
   ]
  },
  {
   "cell_type": "markdown",
   "metadata": {},
   "source": [
    "*Признаки*\n",
    "- `RowNumber` — индекс строки в данных\n",
    "- `CustomerId` — уникальный идентификатор клиента\n",
    "- `Surname` — фамилия\n",
    "- `CreditScore` — кредитный рейтинг\n",
    "- `Geography` — страна проживания\n",
    "- `Gender` — пол\n",
    "- `Age` — возраст\n",
    "- `Tenure` — сколько лет человек является клиентом банка\n",
    "- `Balance` — баланс на счёте\n",
    "- `NumOfProducts` — количество продуктов банка, используемых клиентом\n",
    "- `HasCrCard` — наличие кредитной карты\n",
    "- `IsActiveMember` — активность клиента\n",
    "- `EstimatedSalary` — предполагаемая зарплата\n"
   ]
  },
  {
   "cell_type": "markdown",
   "metadata": {},
   "source": [
    "*Целевой признак*\n",
    "- `Exited` — факт ухода клиента"
   ]
  },
  {
   "cell_type": "markdown",
   "metadata": {},
   "source": [
    "***План работы над проектом:***"
   ]
  },
  {
   "cell_type": "markdown",
   "metadata": {},
   "source": [
    "1. Подготовка данных;\n",
    "2. Исследование задачи;\n",
    "3. Борьба с дисбалансом;\n",
    "4. Тестирование модели;\n",
    "5. Общий вывод."
   ]
  },
  {
   "cell_type": "markdown",
   "metadata": {},
   "source": [
    "## Подготовка данных"
   ]
  },
  {
   "cell_type": "code",
   "execution_count": 1,
   "metadata": {},
   "outputs": [
    {
     "name": "stdout",
     "output_type": "stream",
     "text": [
      "Requirement already satisfied: scikit-learn==1.1.3 in /opt/conda/lib/python3.9/site-packages (1.1.3)\r\n",
      "Requirement already satisfied: scipy>=1.3.2 in /opt/conda/lib/python3.9/site-packages (from scikit-learn==1.1.3) (1.9.1)\r\n",
      "Requirement already satisfied: numpy>=1.17.3 in /opt/conda/lib/python3.9/site-packages (from scikit-learn==1.1.3) (1.21.1)\r\n",
      "Requirement already satisfied: joblib>=1.0.0 in /opt/conda/lib/python3.9/site-packages (from scikit-learn==1.1.3) (1.1.0)\r\n",
      "Requirement already satisfied: threadpoolctl>=2.0.0 in /opt/conda/lib/python3.9/site-packages (from scikit-learn==1.1.3) (3.1.0)\r\n"
     ]
    }
   ],
   "source": [
    "# установим последнюю версию scikit-learn, если она не установлена\n",
    "# теперь для OneHotEncoder работает одновремеено drop='first' и handle_unknown='ignore'\n",
    "!pip install scikit-learn==1.1.3"
   ]
  },
  {
   "cell_type": "code",
   "execution_count": 2,
   "metadata": {},
   "outputs": [],
   "source": [
    "import warnings\n",
    "import pandas as pd\n",
    "import seaborn as sns\n",
    "import matplotlib.pyplot as plt\n",
    "\n",
    "from sklearn.ensemble import RandomForestClassifier\n",
    "from sklearn.tree import DecisionTreeClassifier\n",
    "from sklearn.linear_model import LogisticRegression\n",
    "from sklearn.dummy import DummyClassifier\n",
    "from sklearn.metrics import (\n",
    "    f1_score, \n",
    "    accuracy_score, \n",
    "    roc_auc_score, \n",
    "    roc_curve,\n",
    "    recall_score)\n",
    "\n",
    "from sklearn.preprocessing import (\n",
    "    StandardScaler, \n",
    "    OneHotEncoder)\n",
    "\n",
    "from sklearn.model_selection import train_test_split\n",
    "from sklearn.utils import shuffle\n",
    "\n",
    "sns.set(rc={'figure.figsize': (15, 20)})"
   ]
  },
  {
   "cell_type": "code",
   "execution_count": 3,
   "metadata": {
    "scrolled": false
   },
   "outputs": [
    {
     "name": "stdout",
     "output_type": "stream",
     "text": [
      "<class 'pandas.core.frame.DataFrame'>\n",
      "RangeIndex: 10000 entries, 0 to 9999\n",
      "Data columns (total 14 columns):\n",
      " #   Column           Non-Null Count  Dtype  \n",
      "---  ------           --------------  -----  \n",
      " 0   RowNumber        10000 non-null  int64  \n",
      " 1   CustomerId       10000 non-null  int64  \n",
      " 2   Surname          10000 non-null  object \n",
      " 3   CreditScore      10000 non-null  int64  \n",
      " 4   Geography        10000 non-null  object \n",
      " 5   Gender           10000 non-null  object \n",
      " 6   Age              10000 non-null  int64  \n",
      " 7   Tenure           9091 non-null   float64\n",
      " 8   Balance          10000 non-null  float64\n",
      " 9   NumOfProducts    10000 non-null  int64  \n",
      " 10  HasCrCard        10000 non-null  int64  \n",
      " 11  IsActiveMember   10000 non-null  int64  \n",
      " 12  EstimatedSalary  10000 non-null  float64\n",
      " 13  Exited           10000 non-null  int64  \n",
      "dtypes: float64(3), int64(8), object(3)\n",
      "memory usage: 1.1+ MB\n"
     ]
    },
    {
     "data": {
      "text/html": [
       "<div>\n",
       "<style scoped>\n",
       "    .dataframe tbody tr th:only-of-type {\n",
       "        vertical-align: middle;\n",
       "    }\n",
       "\n",
       "    .dataframe tbody tr th {\n",
       "        vertical-align: top;\n",
       "    }\n",
       "\n",
       "    .dataframe thead th {\n",
       "        text-align: right;\n",
       "    }\n",
       "</style>\n",
       "<table border=\"1\" class=\"dataframe\">\n",
       "  <thead>\n",
       "    <tr style=\"text-align: right;\">\n",
       "      <th></th>\n",
       "      <th>RowNumber</th>\n",
       "      <th>CustomerId</th>\n",
       "      <th>Surname</th>\n",
       "      <th>CreditScore</th>\n",
       "      <th>Geography</th>\n",
       "      <th>Gender</th>\n",
       "      <th>Age</th>\n",
       "      <th>Tenure</th>\n",
       "      <th>Balance</th>\n",
       "      <th>NumOfProducts</th>\n",
       "      <th>HasCrCard</th>\n",
       "      <th>IsActiveMember</th>\n",
       "      <th>EstimatedSalary</th>\n",
       "      <th>Exited</th>\n",
       "    </tr>\n",
       "  </thead>\n",
       "  <tbody>\n",
       "    <tr>\n",
       "      <th>9354</th>\n",
       "      <td>9355</td>\n",
       "      <td>15791501</td>\n",
       "      <td>Carroll</td>\n",
       "      <td>590</td>\n",
       "      <td>France</td>\n",
       "      <td>Male</td>\n",
       "      <td>43</td>\n",
       "      <td>8.0</td>\n",
       "      <td>0.00</td>\n",
       "      <td>2</td>\n",
       "      <td>1</td>\n",
       "      <td>1</td>\n",
       "      <td>143628.31</td>\n",
       "      <td>0</td>\n",
       "    </tr>\n",
       "    <tr>\n",
       "      <th>286</th>\n",
       "      <td>287</td>\n",
       "      <td>15573112</td>\n",
       "      <td>Kang</td>\n",
       "      <td>602</td>\n",
       "      <td>Spain</td>\n",
       "      <td>Male</td>\n",
       "      <td>29</td>\n",
       "      <td>NaN</td>\n",
       "      <td>103907.28</td>\n",
       "      <td>1</td>\n",
       "      <td>1</td>\n",
       "      <td>0</td>\n",
       "      <td>161229.84</td>\n",
       "      <td>0</td>\n",
       "    </tr>\n",
       "    <tr>\n",
       "      <th>2425</th>\n",
       "      <td>2426</td>\n",
       "      <td>15630167</td>\n",
       "      <td>Gibson</td>\n",
       "      <td>684</td>\n",
       "      <td>Spain</td>\n",
       "      <td>Female</td>\n",
       "      <td>39</td>\n",
       "      <td>4.0</td>\n",
       "      <td>139723.90</td>\n",
       "      <td>1</td>\n",
       "      <td>1</td>\n",
       "      <td>1</td>\n",
       "      <td>120612.11</td>\n",
       "      <td>0</td>\n",
       "    </tr>\n",
       "    <tr>\n",
       "      <th>9995</th>\n",
       "      <td>9996</td>\n",
       "      <td>15606229</td>\n",
       "      <td>Obijiaku</td>\n",
       "      <td>771</td>\n",
       "      <td>France</td>\n",
       "      <td>Male</td>\n",
       "      <td>39</td>\n",
       "      <td>5.0</td>\n",
       "      <td>0.00</td>\n",
       "      <td>2</td>\n",
       "      <td>1</td>\n",
       "      <td>0</td>\n",
       "      <td>96270.64</td>\n",
       "      <td>0</td>\n",
       "    </tr>\n",
       "    <tr>\n",
       "      <th>7338</th>\n",
       "      <td>7339</td>\n",
       "      <td>15796111</td>\n",
       "      <td>Smith</td>\n",
       "      <td>708</td>\n",
       "      <td>Germany</td>\n",
       "      <td>Female</td>\n",
       "      <td>54</td>\n",
       "      <td>8.0</td>\n",
       "      <td>145151.40</td>\n",
       "      <td>1</td>\n",
       "      <td>0</td>\n",
       "      <td>1</td>\n",
       "      <td>125311.17</td>\n",
       "      <td>1</td>\n",
       "    </tr>\n",
       "  </tbody>\n",
       "</table>\n",
       "</div>"
      ],
      "text/plain": [
       "      RowNumber  CustomerId   Surname  CreditScore Geography  Gender  Age  \\\n",
       "9354       9355    15791501   Carroll          590    France    Male   43   \n",
       "286         287    15573112      Kang          602     Spain    Male   29   \n",
       "2425       2426    15630167    Gibson          684     Spain  Female   39   \n",
       "9995       9996    15606229  Obijiaku          771    France    Male   39   \n",
       "7338       7339    15796111     Smith          708   Germany  Female   54   \n",
       "\n",
       "      Tenure    Balance  NumOfProducts  HasCrCard  IsActiveMember  \\\n",
       "9354     8.0       0.00              2          1               1   \n",
       "286      NaN  103907.28              1          1               0   \n",
       "2425     4.0  139723.90              1          1               1   \n",
       "9995     5.0       0.00              2          1               0   \n",
       "7338     8.0  145151.40              1          0               1   \n",
       "\n",
       "      EstimatedSalary  Exited  \n",
       "9354        143628.31       0  \n",
       "286         161229.84       0  \n",
       "2425        120612.11       0  \n",
       "9995         96270.64       0  \n",
       "7338        125311.17       1  "
      ]
     },
     "metadata": {},
     "output_type": "display_data"
    },
    {
     "name": "stdout",
     "output_type": "stream",
     "text": [
      "Количество пропусков в таблице:\n",
      "\n",
      "RowNumber            0\n",
      "CustomerId           0\n",
      "Surname              0\n",
      "CreditScore          0\n",
      "Geography            0\n",
      "Gender               0\n",
      "Age                  0\n",
      "Tenure             909\n",
      "Balance              0\n",
      "NumOfProducts        0\n",
      "HasCrCard            0\n",
      "IsActiveMember       0\n",
      "EstimatedSalary      0\n",
      "Exited               0\n",
      "dtype: int64 \n",
      "\n",
      "Количество дубликатов в таблице: 0\n"
     ]
    },
    {
     "data": {
      "image/png": "[encoded data removed]",
      "text/plain": [
       "<Figure size 1080x1440 with 12 Axes>"
      ]
     },
     "metadata": {},
     "output_type": "display_data"
    }
   ],
   "source": [
    "data = pd.read_csv('Churn.csv')\n",
    "data.info()\n",
    "display(data.sample(5))\n",
    "print('Количество пропусков в таблице:\\n')\n",
    "print(data.isna().sum(), '\\n')\n",
    "print('Количество дубликатов в таблице:',  data.duplicated().sum())\n",
    "data.hist(figsize=(15, 20));"
   ]
  },
  {
   "cell_type": "markdown",
   "metadata": {},
   "source": [
    "Открыв датасет мы видим, что у нас есть пропуски в столбце `Tenure` (сколько лет человек является клиентом банка) - `909 штук`. На первывый взляд показалось, что система просто оставляет пустое значение в первый год обслуживания клиентов, однако по гистограмме стоблца мы видим `~400 человек` имеет значение `0`. Итого - мы не можем заменить пропуски средним значением и поставить 0 мы так же не можем поэтому удалим строки из таблицы, чтобы они не помешали обучению для нашей модели. Это примерно `9%` от общего объёма данных."
   ]
  },
  {
   "cell_type": "code",
   "execution_count": 4,
   "metadata": {},
   "outputs": [
    {
     "name": "stdout",
     "output_type": "stream",
     "text": [
      "RowNumber          0\n",
      "CustomerId         0\n",
      "Surname            0\n",
      "CreditScore        0\n",
      "Geography          0\n",
      "Gender             0\n",
      "Age                0\n",
      "Tenure             0\n",
      "Balance            0\n",
      "NumOfProducts      0\n",
      "HasCrCard          0\n",
      "IsActiveMember     0\n",
      "EstimatedSalary    0\n",
      "Exited             0\n",
      "dtype: int64 \n",
      "\n"
     ]
    }
   ],
   "source": [
    "data = data.dropna(subset=['Tenure'])\n",
    "print(data.isna().sum(), '\\n')"
   ]
  },
  {
   "cell_type": "markdown",
   "metadata": {},
   "source": [
    "Отлично. Далее мы переименнуем все названия столцов. Как минимум приведём всё к нижнему регистру и в некоторых используем `Snake case стиль`."
   ]
  },
  {
   "cell_type": "code",
   "execution_count": 5,
   "metadata": {
    "scrolled": true
   },
   "outputs": [],
   "source": [
    "data.columns = map(str.lower, data.columns)\n",
    "data.columns = ['row_number', 'customer_id', 'surname', 'credit_score', 'geography',\n",
    "       'gender', 'age', 'tenure', 'balance', 'num_of_products', 'has_cr_card',\n",
    "       'is_active_member', 'estimated_salary', 'exited']"
   ]
  },
  {
   "cell_type": "markdown",
   "metadata": {},
   "source": [
    "Далее мы удалим у таблицы не нужные для обучения столбцы, а конкретно `row_number, surname, customer_id`."
   ]
  },
  {
   "cell_type": "code",
   "execution_count": 6,
   "metadata": {
    "scrolled": false
   },
   "outputs": [],
   "source": [
    "data = data.drop(['row_number', 'surname', 'customer_id'], axis=1).reset_index(drop=True)"
   ]
  },
  {
   "cell_type": "markdown",
   "metadata": {},
   "source": [
    "Мы сделаем разбивку датасета на 3 части. На обучающую выборку - это будет `60%` данных. На валидную и тестовую мы отвели по `20% (3|1|1)`"
   ]
  },
  {
   "cell_type": "code",
   "execution_count": 7,
   "metadata": {},
   "outputs": [
    {
     "name": "stdout",
     "output_type": "stream",
     "text": [
      "(5454, 10)\n",
      "(1819, 10)\n",
      "(1818, 10)\n"
     ]
    }
   ],
   "source": [
    "features = data.drop(['exited'], axis=1)\n",
    "target = data['exited']\n",
    "\n",
    "features_train, features_valid, target_train, target_valid = train_test_split(\n",
    "    features, target, test_size=0.4, random_state=12345)\n",
    "\n",
    "features_test, features_valid, target_test, target_valid = train_test_split(\n",
    "    features_valid, target_valid, test_size=0.5, random_state=123456)\n",
    "\n",
    "print(features_train.shape)\n",
    "print(features_valid.shape)\n",
    "print(features_test.shape)"
   ]
  },
  {
   "cell_type": "markdown",
   "metadata": {},
   "source": [
    "Далее закодируем категориальные признаки как однократный числовой массив. Используем `OneHotEncoder`."
   ]
  },
  {
   "cell_type": "code",
   "execution_count": 8,
   "metadata": {},
   "outputs": [],
   "source": [
    "# data_ohe = pd.get_dummies(data, drop_first=True)\n",
    "ohe_features_ridge = features_train.select_dtypes(include='object').columns.to_list()\n",
    "encoder_ohe = OneHotEncoder(drop='first', handle_unknown='ignore', sparse=False).fit(features_train[ohe_features_ridge])"
   ]
  },
  {
   "cell_type": "code",
   "execution_count": 9,
   "metadata": {},
   "outputs": [],
   "source": [
    "# кодируем признаки train\n",
    "features_train[\n",
    "    encoder_ohe.get_feature_names_out()\n",
    "] = encoder_ohe.transform(features_train[ohe_features_ridge])\n",
    "# удаляем незакодированные категориальные признаки (изначальные колонки)\n",
    "features_train = features_train.drop(ohe_features_ridge, axis=1)"
   ]
  },
  {
   "cell_type": "code",
   "execution_count": 12,
   "metadata": {},
   "outputs": [],
   "source": [
    "# кодируем признаки valid\n",
    "features_valid[\n",
    "    encoder_ohe.get_feature_names_out()\n",
    "] = encoder_ohe.transform(features_valid[ohe_features_ridge])\n",
    "# удаляем незакодированные категориальные признаки (изначальные колонки)\n",
    "features_valid = features_valid.drop(ohe_features_ridge, axis=1)"
   ]
  },
  {
   "cell_type": "code",
   "execution_count": 14,
   "metadata": {},
   "outputs": [],
   "source": [
    "# кодируем признаки test\n",
    "features_test[\n",
    "    encoder_ohe.get_feature_names_out()\n",
    "] = encoder_ohe.transform(features_test[ohe_features_ridge])\n",
    "# удаляем незакодированные категориальные признаки (изначальные колонки)\n",
    "features_test = features_test.drop(ohe_features_ridge, axis=1)"
   ]
  },
  {
   "cell_type": "code",
   "execution_count": 16,
   "metadata": {},
   "outputs": [
    {
     "data": {
      "text/html": [
       "<div>\n",
       "<style scoped>\n",
       "    .dataframe tbody tr th:only-of-type {\n",
       "        vertical-align: middle;\n",
       "    }\n",
       "\n",
       "    .dataframe tbody tr th {\n",
       "        vertical-align: top;\n",
       "    }\n",
       "\n",
       "    .dataframe thead th {\n",
       "        text-align: right;\n",
       "    }\n",
       "</style>\n",
       "<table border=\"1\" class=\"dataframe\">\n",
       "  <thead>\n",
       "    <tr style=\"text-align: right;\">\n",
       "      <th></th>\n",
       "      <th>credit_score</th>\n",
       "      <th>age</th>\n",
       "      <th>tenure</th>\n",
       "      <th>balance</th>\n",
       "      <th>num_of_products</th>\n",
       "      <th>has_cr_card</th>\n",
       "      <th>is_active_member</th>\n",
       "      <th>estimated_salary</th>\n",
       "      <th>geography_Germany</th>\n",
       "      <th>geography_Spain</th>\n",
       "      <th>gender_Male</th>\n",
       "    </tr>\n",
       "  </thead>\n",
       "  <tbody>\n",
       "    <tr>\n",
       "      <th>1045</th>\n",
       "      <td>693</td>\n",
       "      <td>40</td>\n",
       "      <td>0.0</td>\n",
       "      <td>120711.73</td>\n",
       "      <td>1</td>\n",
       "      <td>0</td>\n",
       "      <td>0</td>\n",
       "      <td>27345.18</td>\n",
       "      <td>1.0</td>\n",
       "      <td>0.0</td>\n",
       "      <td>1.0</td>\n",
       "    </tr>\n",
       "    <tr>\n",
       "      <th>6487</th>\n",
       "      <td>529</td>\n",
       "      <td>46</td>\n",
       "      <td>8.0</td>\n",
       "      <td>0.00</td>\n",
       "      <td>1</td>\n",
       "      <td>0</td>\n",
       "      <td>0</td>\n",
       "      <td>126511.94</td>\n",
       "      <td>0.0</td>\n",
       "      <td>0.0</td>\n",
       "      <td>1.0</td>\n",
       "    </tr>\n",
       "    <tr>\n",
       "      <th>8093</th>\n",
       "      <td>718</td>\n",
       "      <td>32</td>\n",
       "      <td>9.0</td>\n",
       "      <td>169947.41</td>\n",
       "      <td>2</td>\n",
       "      <td>1</td>\n",
       "      <td>1</td>\n",
       "      <td>27979.16</td>\n",
       "      <td>1.0</td>\n",
       "      <td>0.0</td>\n",
       "      <td>1.0</td>\n",
       "    </tr>\n",
       "  </tbody>\n",
       "</table>\n",
       "</div>"
      ],
      "text/plain": [
       "      credit_score  age  tenure    balance  num_of_products  has_cr_card  \\\n",
       "1045           693   40     0.0  120711.73                1            0   \n",
       "6487           529   46     8.0       0.00                1            0   \n",
       "8093           718   32     9.0  169947.41                2            1   \n",
       "\n",
       "      is_active_member  estimated_salary  geography_Germany  geography_Spain  \\\n",
       "1045                 0          27345.18                1.0              0.0   \n",
       "6487                 0         126511.94                0.0              0.0   \n",
       "8093                 1          27979.16                1.0              0.0   \n",
       "\n",
       "      gender_Male  \n",
       "1045          1.0  \n",
       "6487          1.0  \n",
       "8093          1.0  "
      ]
     },
     "execution_count": 16,
     "metadata": {},
     "output_type": "execute_result"
    }
   ],
   "source": [
    "features_test.head(3)"
   ]
  },
  {
   "cell_type": "markdown",
   "metadata": {},
   "source": [
    "Далее нам нужно стандартизировать данные. Обучим модель StandardScaler на features_train и прогоним через неё `2` другие части."
   ]
  },
  {
   "cell_type": "code",
   "execution_count": 17,
   "metadata": {
    "scrolled": true
   },
   "outputs": [],
   "source": [
    "pd.options.mode.chained_assignment = None\n",
    "numeric = ['credit_score', 'age', 'tenure', 'balance', 'num_of_products', 'estimated_salary']\n",
    "\n",
    "scaler = StandardScaler()\n",
    "scaler.fit(features_train[numeric])\n",
    "\n",
    "features_train[numeric] = scaler.transform(features_train[numeric])\n",
    "features_valid[numeric] = scaler.transform(features_valid[numeric])\n",
    "features_test[numeric] = scaler.transform(features_test[numeric])"
   ]
  },
  {
   "cell_type": "code",
   "execution_count": 19,
   "metadata": {},
   "outputs": [
    {
     "data": {
      "text/html": [
       "<div>\n",
       "<style scoped>\n",
       "    .dataframe tbody tr th:only-of-type {\n",
       "        vertical-align: middle;\n",
       "    }\n",
       "\n",
       "    .dataframe tbody tr th {\n",
       "        vertical-align: top;\n",
       "    }\n",
       "\n",
       "    .dataframe thead th {\n",
       "        text-align: right;\n",
       "    }\n",
       "</style>\n",
       "<table border=\"1\" class=\"dataframe\">\n",
       "  <thead>\n",
       "    <tr style=\"text-align: right;\">\n",
       "      <th></th>\n",
       "      <th>credit_score</th>\n",
       "      <th>age</th>\n",
       "      <th>tenure</th>\n",
       "      <th>balance</th>\n",
       "      <th>num_of_products</th>\n",
       "      <th>has_cr_card</th>\n",
       "      <th>is_active_member</th>\n",
       "      <th>estimated_salary</th>\n",
       "      <th>geography_Germany</th>\n",
       "      <th>geography_Spain</th>\n",
       "      <th>gender_Male</th>\n",
       "    </tr>\n",
       "  </thead>\n",
       "  <tbody>\n",
       "    <tr>\n",
       "      <th>8483</th>\n",
       "      <td>0.809075</td>\n",
       "      <td>-1.039327</td>\n",
       "      <td>-1.025995</td>\n",
       "      <td>0.554904</td>\n",
       "      <td>-0.908179</td>\n",
       "      <td>1</td>\n",
       "      <td>0</td>\n",
       "      <td>0.019508</td>\n",
       "      <td>0.0</td>\n",
       "      <td>0.0</td>\n",
       "      <td>0.0</td>\n",
       "    </tr>\n",
       "    <tr>\n",
       "      <th>3431</th>\n",
       "      <td>-1.152518</td>\n",
       "      <td>-1.227561</td>\n",
       "      <td>0.696524</td>\n",
       "      <td>0.480609</td>\n",
       "      <td>-0.908179</td>\n",
       "      <td>0</td>\n",
       "      <td>0</td>\n",
       "      <td>0.056167</td>\n",
       "      <td>0.0</td>\n",
       "      <td>0.0</td>\n",
       "      <td>1.0</td>\n",
       "    </tr>\n",
       "    <tr>\n",
       "      <th>6770</th>\n",
       "      <td>-0.398853</td>\n",
       "      <td>0.090079</td>\n",
       "      <td>1.385532</td>\n",
       "      <td>-1.237830</td>\n",
       "      <td>-0.908179</td>\n",
       "      <td>1</td>\n",
       "      <td>1</td>\n",
       "      <td>0.848738</td>\n",
       "      <td>0.0</td>\n",
       "      <td>0.0</td>\n",
       "      <td>1.0</td>\n",
       "    </tr>\n",
       "    <tr>\n",
       "      <th>1350</th>\n",
       "      <td>-0.749875</td>\n",
       "      <td>-0.286389</td>\n",
       "      <td>0.352020</td>\n",
       "      <td>-1.237830</td>\n",
       "      <td>0.809300</td>\n",
       "      <td>1</td>\n",
       "      <td>1</td>\n",
       "      <td>-0.894953</td>\n",
       "      <td>0.0</td>\n",
       "      <td>0.0</td>\n",
       "      <td>1.0</td>\n",
       "    </tr>\n",
       "    <tr>\n",
       "      <th>4047</th>\n",
       "      <td>-1.028628</td>\n",
       "      <td>-0.756975</td>\n",
       "      <td>-0.336987</td>\n",
       "      <td>-1.237830</td>\n",
       "      <td>0.809300</td>\n",
       "      <td>0</td>\n",
       "      <td>1</td>\n",
       "      <td>-1.284516</td>\n",
       "      <td>0.0</td>\n",
       "      <td>0.0</td>\n",
       "      <td>1.0</td>\n",
       "    </tr>\n",
       "  </tbody>\n",
       "</table>\n",
       "</div>"
      ],
      "text/plain": [
       "      credit_score       age    tenure   balance  num_of_products  \\\n",
       "8483      0.809075 -1.039327 -1.025995  0.554904        -0.908179   \n",
       "3431     -1.152518 -1.227561  0.696524  0.480609        -0.908179   \n",
       "6770     -0.398853  0.090079  1.385532 -1.237830        -0.908179   \n",
       "1350     -0.749875 -0.286389  0.352020 -1.237830         0.809300   \n",
       "4047     -1.028628 -0.756975 -0.336987 -1.237830         0.809300   \n",
       "\n",
       "      has_cr_card  is_active_member  estimated_salary  geography_Germany  \\\n",
       "8483            1                 0          0.019508                0.0   \n",
       "3431            0                 0          0.056167                0.0   \n",
       "6770            1                 1          0.848738                0.0   \n",
       "1350            1                 1         -0.894953                0.0   \n",
       "4047            0                 1         -1.284516                0.0   \n",
       "\n",
       "      geography_Spain  gender_Male  \n",
       "8483              0.0          0.0  \n",
       "3431              0.0          1.0  \n",
       "6770              0.0          1.0  \n",
       "1350              0.0          1.0  \n",
       "4047              0.0          1.0  "
      ]
     },
     "execution_count": 19,
     "metadata": {},
     "output_type": "execute_result"
    }
   ],
   "source": [
    "features_train.head()"
   ]
  },
  {
   "cell_type": "markdown",
   "metadata": {},
   "source": [
    "***Вывод:*** Мы подготовили данные для обучения модели. Что именно мы сделали:\n",
    "- удалили пропуски в столбце `Tenure` (сколько лет человек является клиентом банка) - `909 штук` (олоко `9%` от всех данных) так как нет возможности их восстановить\n",
    "- мы переимменовали все названия столцов для удобства дальнейшего использования\n",
    "- и удалили часть столбцов, которые не нужны для обучения модели, а именно `row_number, surname, customer_id`\n",
    "- разбили датасет на `3 части`. На обучающую выборку - это будет `60%` данных. На валидную и тестовую мы отвели по `20% (3|1|1)`\n",
    "- закодировали категориальные признаки как однократный числовой массив. Использовали `OneHotEncoder`\n",
    "- стандартизаровали данные при помощи `StandardScaler`."
   ]
  },
  {
   "cell_type": "markdown",
   "metadata": {},
   "source": [
    "## Исследование задачи"
   ]
  },
  {
   "cell_type": "code",
   "execution_count": 21,
   "metadata": {},
   "outputs": [
    {
     "data": {
      "image/png": "[encoded data removed]",
      "text/plain": [
       "<Figure size 432x288 with 1 Axes>"
      ]
     },
     "metadata": {
      "needs_background": "light"
     },
     "output_type": "display_data"
    }
   ],
   "source": [
    "data['exited'].value_counts(normalize=True).plot(kind='bar');"
   ]
  },
  {
   "cell_type": "markdown",
   "metadata": {},
   "source": [
    "Исследовав целевые значения мы обнаружили, что существует `заментый дисбаланс`. Положительный значений значительно меньше. Это значит, что в дальнейшем мы будем использовать инструменты для борьмы с дисбалансом. А для начала определимся какая модель будет лучше всего работать с нашим набором данных. "
   ]
  },
  {
   "cell_type": "markdown",
   "metadata": {},
   "source": [
    "Будем искать лучшую модель опираясь на значение `F1` метрики."
   ]
  },
  {
   "cell_type": "code",
   "execution_count": 45,
   "metadata": {},
   "outputs": [
    {
     "name": "stdout",
     "output_type": "stream",
     "text": [
      "F1: 0.3096234309623431\n",
      "recall модели: 0.20273972602739726\n",
      "AUC-ROC модели: 0.7700382506453619\n",
      "CPU times: user 22.9 ms, sys: 55.7 ms, total: 78.5 ms\n",
      "Wall time: 21.6 ms\n"
     ]
    }
   ],
   "source": [
    "%%time\n",
    "# начнём с модели LogisticRegression\n",
    "model_lr = LogisticRegression(solver = 'liblinear', random_state=12345).fit(features_train, target_train)\n",
    "\n",
    "predictions_valid = model_lr.predict(features_valid)\n",
    "\n",
    "probabilities_valid_lr = model_lr.predict_proba(features_valid)\n",
    "probabilities_one_valid_lr = probabilities_valid_lr[:, 1]\n",
    "\n",
    "# характеристики модели на базе лучших гиперпараметров\n",
    "print(\"F1:\", f1_score(target_valid, predictions_valid))\n",
    "print('recall модели:', recall_score(target_valid, predictions_valid))\n",
    "print('AUC-ROC модели:', roc_auc_score(target_valid, probabilities_one_valid_lr))"
   ]
  },
  {
   "cell_type": "code",
   "execution_count": 43,
   "metadata": {},
   "outputs": [
    {
     "name": "stdout",
     "output_type": "stream",
     "text": [
      "F1 лучшей модели: 0.5662251655629139\n",
      "Параметры лучшей модели: DecisionTreeClassifier(max_depth=7, random_state=12345)\n",
      "CPU times: user 262 ms, sys: 15.5 ms, total: 277 ms\n",
      "Wall time: 278 ms\n"
     ]
    }
   ],
   "source": [
    "%%time\n",
    "# далее модель DecisionTreeClassifier\n",
    "best_model = None\n",
    "best_result = 0\n",
    "for depth in range(1, 16):\n",
    "    model_dtc = DecisionTreeClassifier(random_state=12345, max_depth=depth)\n",
    "    model_dtc.fit(features_train, target_train)\n",
    "    predictions_valid = model_dtc.predict(features_valid)\n",
    "    result = f1_score(target_valid, predictions_valid)\n",
    "    if result > best_result:\n",
    "        best_model = model_dtc\n",
    "        best_result = result\n",
    "\n",
    "print('F1 лучшей модели:', best_result)\n",
    "print('Параметры лучшей модели:', best_model)"
   ]
  },
  {
   "cell_type": "code",
   "execution_count": 44,
   "metadata": {},
   "outputs": [
    {
     "name": "stdout",
     "output_type": "stream",
     "text": [
      "F1 модели: 0.5662251655629139\n",
      "recall модели: 0.4684931506849315\n",
      "AUC-ROC модели: 0.8339629929716794\n"
     ]
    }
   ],
   "source": [
    "# характеристики модели на базе лучших гиперпараметров\n",
    "model_dtc = DecisionTreeClassifier(random_state=12345, max_depth=7).fit(features_train, target_train)\n",
    "predictions_valid = model_dtc.predict(features_valid)\n",
    "\n",
    "probabilities_valid_dtc = model_dtc.predict_proba(features_valid)\n",
    "probabilities_one_valid_dtc = probabilities_valid_dtc[:, 1]\n",
    "\n",
    "print('F1 модели:', f1_score(target_valid, predictions_valid))\n",
    "print('recall модели:', recall_score(target_valid, predictions_valid))\n",
    "print('AUC-ROC модели:', roc_auc_score(target_valid, probabilities_one_valid_dtc))"
   ]
  },
  {
   "cell_type": "code",
   "execution_count": 13,
   "metadata": {},
   "outputs": [
    {
     "name": "stdout",
     "output_type": "stream",
     "text": [
      "F1 лучшей модели: 0.5668449197860962\n",
      "Параметры лучшей модели: RandomForestClassifier(max_depth=14, n_estimators=40, random_state=12345)\n",
      "CPU times: user 2min 27s, sys: 875 ms, total: 2min 28s\n",
      "Wall time: 2min 28s\n"
     ]
    }
   ],
   "source": [
    "%%time\n",
    "# модель RandomForestClassifier\n",
    "best_model = None\n",
    "best_result = 0\n",
    "best_est = 0\n",
    "best_depth = 0\n",
    "for est in range(10, 201, 10):\n",
    "    for depth in range (1, 16):\n",
    "        model_rfc = RandomForestClassifier(random_state=12345, max_depth=depth, n_estimators=est)\n",
    "        model_rfc.fit(features_train, target_train)\n",
    "        predictions_valid = model_rfc.predict(features_valid)\n",
    "        result = f1_score(target_valid, predictions_valid)\n",
    "        if result > best_result:\n",
    "            best_model = model_rfc\n",
    "            best_result = result\n",
    "        \n",
    "print('F1 лучшей модели:', best_result)\n",
    "print('Параметры лучшей модели:', best_model)"
   ]
  },
  {
   "cell_type": "code",
   "execution_count": 47,
   "metadata": {},
   "outputs": [
    {
     "name": "stdout",
     "output_type": "stream",
     "text": [
      "F1 модели: 0.5668449197860962\n",
      "recall модели: 0.43561643835616437\n",
      "AUC-ROC модели: 0.8524316481694334\n"
     ]
    }
   ],
   "source": [
    "# характеристики модели на базе лучших гиперпараметров\n",
    "model_rfc = RandomForestClassifier(max_depth=14, n_estimators=40, random_state=12345).fit(features_train, target_train)\n",
    "predictions_valid = model_rfc.predict(features_valid)\n",
    "\n",
    "probabilities_valid_rfc = model_rfc.predict_proba(features_valid)\n",
    "probabilities_one_valid_rfc = probabilities_valid_rfc[:, 1]\n",
    "\n",
    "print('F1 модели:', f1_score(target_valid, predictions_valid))\n",
    "print('recall модели:', recall_score(target_valid, predictions_valid))\n",
    "print('AUC-ROC модели:', roc_auc_score(target_valid, probabilities_one_valid_rfc))"
   ]
  },
  {
   "cell_type": "markdown",
   "metadata": {},
   "source": [
    "***Вывод:*** Мы обнаружили, что существует заментый дисбаланс. Положительных значений значительно меньше. При поиске оптаимальной модели лучшие показатели у модели `RandomForestClassifier`, где `F1=0.57` и `DecisionTreeClassifier` с таким же показателем, но значение `recall` у `DecisionTreeClassifier` больше. `0.47 к 0.44`, а вот с `AUC-ROC` моделей наоборот. У `RandomForestClassifier` больше. `0.85 к 0.83`."
   ]
  },
  {
   "cell_type": "markdown",
   "metadata": {},
   "source": [
    "## Борьба с дисбалансом"
   ]
  },
  {
   "cell_type": "markdown",
   "metadata": {},
   "source": [
    "Для борьбы с дисбалансом используем 2 метода. В первом добавим положительный целевых значений. (1)"
   ]
  },
  {
   "cell_type": "code",
   "execution_count": 49,
   "metadata": {},
   "outputs": [],
   "source": [
    "def upsample(features, target, repeat):\n",
    "    features_zeros = features[target == 0]\n",
    "    features_ones = features[target == 1]\n",
    "    target_zeros = target[target == 0]\n",
    "    target_ones = target[target == 1]\n",
    "\n",
    "    features_upsampled = pd.concat([features_zeros] + [features_ones] * repeat)\n",
    "    target_upsampled = pd.concat([target_zeros] + [target_ones] * repeat)\n",
    "    \n",
    "    features_upsampled, target_upsampled = shuffle(\n",
    "        features_upsampled, target_upsampled, random_state=12345)\n",
    "    \n",
    "    return features_upsampled, target_upsampled\n",
    "\n",
    "features_upsampled, target_upsampled = upsample(features_train, target_train, 4)"
   ]
  },
  {
   "cell_type": "markdown",
   "metadata": {},
   "source": [
    "Будем искать лучшие гиперпараметры моделей на базе новых данных."
   ]
  },
  {
   "cell_type": "code",
   "execution_count": 50,
   "metadata": {},
   "outputs": [
    {
     "name": "stdout",
     "output_type": "stream",
     "text": [
      "F1: 0.48971962616822423\n",
      "recall модели: 0.7178082191780822\n",
      "AUC-ROC модели: 0.7715060956077707\n",
      "CPU times: user 47.8 ms, sys: 36.1 ms, total: 83.9 ms\n",
      "Wall time: 27.2 ms\n"
     ]
    }
   ],
   "source": [
    "%%time\n",
    "# начнём опять с модели LogisticRegression\n",
    "model_lr = LogisticRegression(solver = 'liblinear', random_state=12345).fit(features_upsampled, target_upsampled)\n",
    "\n",
    "predictions_valid = model_lr.predict(features_valid)\n",
    "\n",
    "probabilities_valid_lr = model_lr.predict_proba(features_valid)\n",
    "probabilities_one_valid_lr = probabilities_valid_lr[:, 1]\n",
    "\n",
    "# характеристики модели на базе лучших гиперпараметров\n",
    "print(\"F1:\", f1_score(target_valid, predictions_valid))\n",
    "print('recall модели:', recall_score(target_valid, predictions_valid))\n",
    "print('AUC-ROC модели:', roc_auc_score(target_valid, probabilities_one_valid_lr))"
   ]
  },
  {
   "cell_type": "code",
   "execution_count": 52,
   "metadata": {},
   "outputs": [
    {
     "name": "stdout",
     "output_type": "stream",
     "text": [
      "F1 лучшей модели: 0.5757575757575757\n",
      "Параметры лучшей модели: DecisionTreeClassifier(max_depth=5, random_state=12345)\n",
      "CPU times: user 331 ms, sys: 81 µs, total: 331 ms\n",
      "Wall time: 330 ms\n"
     ]
    }
   ],
   "source": [
    "%%time\n",
    "# далее модель DecisionTreeClassifier\n",
    "best_model = None\n",
    "best_result = 0\n",
    "for depth in range(1, 16):\n",
    "    model_dtc = DecisionTreeClassifier(random_state=12345, max_depth=depth)\n",
    "    model_dtc.fit(features_upsampled, target_upsampled)\n",
    "    predictions_valid = model_dtc.predict(features_valid)\n",
    "    result = f1_score(target_valid, predictions_valid)\n",
    "    if result > best_result:\n",
    "        best_model = model_dtc\n",
    "        best_result = result\n",
    "\n",
    "print('F1 лучшей модели:', best_result)\n",
    "print('Параметры лучшей модели:', best_model)"
   ]
  },
  {
   "cell_type": "code",
   "execution_count": 53,
   "metadata": {},
   "outputs": [
    {
     "name": "stdout",
     "output_type": "stream",
     "text": [
      "F1 модели: 0.5757575757575757\n",
      "recall модели: 0.7287671232876712\n",
      "AUC-ROC модели: 0.8426494695784892\n"
     ]
    }
   ],
   "source": [
    "# характеристики модели на базе лучших гиперпараметров\n",
    "model_dtc = DecisionTreeClassifier(random_state=12345, max_depth=5).fit(features_upsampled, target_upsampled)\n",
    "predictions_valid = model_dtc.predict(features_valid)\n",
    "\n",
    "probabilities_valid_dtc = model_dtc.predict_proba(features_valid)\n",
    "probabilities_one_valid_dtc = probabilities_valid_dtc[:, 1]\n",
    "\n",
    "print('F1 модели:', f1_score(target_valid, predictions_valid))\n",
    "print('recall модели:', recall_score(target_valid, predictions_valid))\n",
    "print('AUC-ROC модели:', roc_auc_score(target_valid, probabilities_one_valid_dtc))"
   ]
  },
  {
   "cell_type": "code",
   "execution_count": 54,
   "metadata": {},
   "outputs": [
    {
     "name": "stdout",
     "output_type": "stream",
     "text": [
      "F1 лучшей модели: 0.6264044943820225\n",
      "Параметры лучшей модели: RandomForestClassifier(max_depth=14, n_estimators=70, random_state=12345)\n",
      "CPU times: user 3min 4s, sys: 2.22 s, total: 3min 7s\n",
      "Wall time: 3min 7s\n"
     ]
    }
   ],
   "source": [
    "%%time\n",
    "# модель RandomForestClassifier\n",
    "best_model = None\n",
    "best_result = 0\n",
    "best_est = 0\n",
    "best_depth = 0\n",
    "for est in range(10, 201, 10):\n",
    "    for depth in range (1, 16):\n",
    "        model_rfc = RandomForestClassifier(random_state=12345, max_depth=depth, n_estimators=est)\n",
    "        model_rfc.fit(features_upsampled, target_upsampled)\n",
    "        predictions_valid = model_rfc.predict(features_valid)\n",
    "        result = f1_score(target_valid, predictions_valid)\n",
    "        if result > best_result:\n",
    "            best_model = model_rfc\n",
    "            best_result = result\n",
    "        \n",
    "print('F1 лучшей модели:', best_result)\n",
    "print('Параметры лучшей модели:', best_model)"
   ]
  },
  {
   "cell_type": "code",
   "execution_count": 56,
   "metadata": {},
   "outputs": [
    {
     "name": "stdout",
     "output_type": "stream",
     "text": [
      "F1 модели: 0.6264044943820225\n",
      "recall модели: 0.6109589041095891\n",
      "AUC-ROC модели: 0.8569407020783479\n"
     ]
    }
   ],
   "source": [
    "# характеристики модели на базе лучших гиперпараметров\n",
    "model_rfc = RandomForestClassifier(max_depth=14, n_estimators=70, random_state=12345).fit(features_upsampled, target_upsampled)\n",
    "predictions_valid = model_rfc.predict(features_valid)\n",
    "\n",
    "probabilities_valid_rfc = model_rfc.predict_proba(features_valid)\n",
    "probabilities_one_valid_rfc = probabilities_valid_rfc[:, 1]\n",
    "\n",
    "print('F1 модели:', f1_score(target_valid, predictions_valid))\n",
    "print('recall модели:', recall_score(target_valid, predictions_valid))\n",
    "print('AUC-ROC модели:', roc_auc_score(target_valid, probabilities_one_valid_rfc))"
   ]
  },
  {
   "cell_type": "markdown",
   "metadata": {},
   "source": [
    "Во-втором варианте борьбы с дисбалансом `уберём часть отрицательных` целевых значений. (0)"
   ]
  },
  {
   "cell_type": "code",
   "execution_count": 57,
   "metadata": {
    "scrolled": true
   },
   "outputs": [],
   "source": [
    "def downsample(features, target, fraction):\n",
    "    features_zeros = features[target == 0]\n",
    "    features_ones = features[target == 1]\n",
    "    target_zeros = target[target == 0]\n",
    "    target_ones = target[target == 1]\n",
    "\n",
    "    features_downsampled = pd.concat(\n",
    "        [features_zeros.sample(frac=fraction, random_state=12345)] + [features_ones])\n",
    "    target_downsampled = pd.concat(\n",
    "        [target_zeros.sample(frac=fraction, random_state=12345)] + [target_ones])\n",
    "    \n",
    "    features_downsampled, target_downsampled = shuffle(\n",
    "        features_downsampled, target_downsampled, random_state=12345)\n",
    "    \n",
    "    return features_downsampled, target_downsampled\n",
    "\n",
    "features_downsampled, target_downsampled = downsample(features_train, target_train, 0.5)"
   ]
  },
  {
   "cell_type": "markdown",
   "metadata": {},
   "source": [
    "Так же найдём лучшие гиперпараметры моделей на базе новых данных."
   ]
  },
  {
   "cell_type": "code",
   "execution_count": 59,
   "metadata": {},
   "outputs": [
    {
     "name": "stdout",
     "output_type": "stream",
     "text": [
      "F1: 0.45400593471810097\n",
      "recall модели: 0.4191780821917808\n",
      "AUC-ROC модели: 0.769214825422547\n",
      "CPU times: user 17.6 ms, sys: 56 ms, total: 73.6 ms\n",
      "Wall time: 18.1 ms\n"
     ]
    }
   ],
   "source": [
    "%%time\n",
    "# начнём опять с модели LogisticRegression\n",
    "model_lr = LogisticRegression(solver = 'liblinear', random_state=12345).fit(features_downsampled, target_downsampled)\n",
    "\n",
    "predictions_valid = model_lr.predict(features_valid)\n",
    "\n",
    "probabilities_valid_lr = model_lr.predict_proba(features_valid)\n",
    "probabilities_one_valid_lr = probabilities_valid_lr[:, 1]\n",
    "\n",
    "# характеристики модели на базе лучших гиперпараметров\n",
    "print(\"F1:\", f1_score(target_valid, predictions_valid))\n",
    "print('recall модели:', recall_score(target_valid, predictions_valid))\n",
    "print('AUC-ROC модели:', roc_auc_score(target_valid, probabilities_one_valid_lr))"
   ]
  },
  {
   "cell_type": "code",
   "execution_count": 60,
   "metadata": {},
   "outputs": [
    {
     "name": "stdout",
     "output_type": "stream",
     "text": [
      "F1 лучшей модели: 0.5894428152492668\n",
      "Параметры лучшей модели: DecisionTreeClassifier(max_depth=6, random_state=12345)\n",
      "CPU times: user 186 ms, sys: 38 µs, total: 186 ms\n",
      "Wall time: 184 ms\n"
     ]
    }
   ],
   "source": [
    "%%time\n",
    "# далее модель DecisionTreeClassifier\n",
    "best_model = None\n",
    "best_result = 0\n",
    "for depth in range(1, 16):\n",
    "    model_dtc = DecisionTreeClassifier(random_state=12345, max_depth=depth)\n",
    "    model_dtc.fit(features_downsampled, target_downsampled)\n",
    "    predictions_valid = model_dtc.predict(features_valid)\n",
    "    result = f1_score(target_valid, predictions_valid)\n",
    "    if result > best_result:\n",
    "        best_model = model_dtc\n",
    "        best_result = result\n",
    "\n",
    "print('F1 лучшей модели:', best_result)\n",
    "print('Параметры лучшей модели:', best_model)"
   ]
  },
  {
   "cell_type": "code",
   "execution_count": 63,
   "metadata": {},
   "outputs": [
    {
     "name": "stdout",
     "output_type": "stream",
     "text": [
      "F1 модели: 0.5894428152492668\n",
      "recall модели: 0.5506849315068493\n",
      "AUC-ROC модели: 0.8323717284392607\n"
     ]
    }
   ],
   "source": [
    "# характеристики модели на базе лучших гиперпараметров\n",
    "model_dtc = DecisionTreeClassifier(random_state=12345, max_depth=6).fit(features_downsampled, target_downsampled)\n",
    "predictions_valid = model_dtc.predict(features_valid)\n",
    "\n",
    "probabilities_valid_dtc = model_dtc.predict_proba(features_valid)\n",
    "probabilities_one_valid_dtc = probabilities_valid_dtc[:, 1]\n",
    "\n",
    "print('F1 модели:', f1_score(target_valid, predictions_valid))\n",
    "print('recall модели:', recall_score(target_valid, predictions_valid))\n",
    "print('AUC-ROC модели:', roc_auc_score(target_valid, probabilities_one_valid_dtc))"
   ]
  },
  {
   "cell_type": "code",
   "execution_count": 62,
   "metadata": {},
   "outputs": [
    {
     "name": "stdout",
     "output_type": "stream",
     "text": [
      "F1 лучшей модели: 0.638109305760709\n",
      "Параметры лучшей модели: RandomForestClassifier(max_depth=9, n_estimators=110, random_state=12345)\n",
      "CPU times: user 1min 42s, sys: 1.54 s, total: 1min 43s\n",
      "Wall time: 1min 43s\n"
     ]
    }
   ],
   "source": [
    "%%time\n",
    "# модель RandomForestClassifier\n",
    "best_model = None\n",
    "best_result = 0\n",
    "best_est = 0\n",
    "best_depth = 0\n",
    "for est in range(10, 201, 10):\n",
    "    for depth in range (1, 16):\n",
    "        model_rfc = RandomForestClassifier(random_state=12345, max_depth=depth, n_estimators=est)\n",
    "        model_rfc.fit(features_downsampled, target_downsampled)\n",
    "        predictions_valid = model_rfc.predict(features_valid)\n",
    "        result = f1_score(target_valid, predictions_valid)\n",
    "        if result > best_result:\n",
    "            best_model = model_rfc\n",
    "            best_result = result\n",
    "        \n",
    "print('F1 лучшей модели:', best_result)\n",
    "print('Параметры лучшей модели:', best_model)"
   ]
  },
  {
   "cell_type": "code",
   "execution_count": 64,
   "metadata": {},
   "outputs": [
    {
     "name": "stdout",
     "output_type": "stream",
     "text": [
      "F1 модели: 0.638109305760709\n",
      "recall модели: 0.5917808219178082\n",
      "AUC-ROC модели: 0.8645983682237004\n"
     ]
    }
   ],
   "source": [
    "# характеристики модели на базе лучших гиперпараметров\n",
    "model_rfc = RandomForestClassifier(max_depth=9, n_estimators=110, random_state=12345).fit(features_downsampled, target_downsampled)\n",
    "predictions_valid = model_rfc.predict(features_valid)\n",
    "\n",
    "probabilities_valid_rfc = model_rfc.predict_proba(features_valid)\n",
    "probabilities_one_valid_rfc = probabilities_valid_rfc[:, 1]\n",
    "\n",
    "print('F1 модели:', f1_score(target_valid, predictions_valid))\n",
    "print('recall модели:', recall_score(target_valid, predictions_valid))\n",
    "print('AUC-ROC модели:', roc_auc_score(target_valid, probabilities_one_valid_rfc))"
   ]
  },
  {
   "cell_type": "markdown",
   "metadata": {},
   "source": [
    "***Вывод:*** Мы сбалансировали модель `2` разными способами. Лучший результат показал вариант с уменьшением отрицательных целевых значений (`downsample`)\n",
    "А лучшая модель `RandomForestClassifier` со значениями \n",
    "- `F1=0.64`\n",
    "- `recall=0.59`\n",
    "- `AUC-ROC=0.86`"
   ]
  },
  {
   "cell_type": "markdown",
   "metadata": {},
   "source": [
    "## Тестирование модели"
   ]
  },
  {
   "cell_type": "code",
   "execution_count": 65,
   "metadata": {},
   "outputs": [
    {
     "name": "stdout",
     "output_type": "stream",
     "text": [
      "F1 модели RandomForestClassifier на тестовой выборке: 0.6323319027181689\n",
      "AUC-ROC модели RandomForestClassifier на тестовой выборке: 0.8653848702583473\n"
     ]
    },
    {
     "data": {
      "image/png": "[encoded data removed]",
      "text/plain": [
       "<Figure size 432x288 with 1 Axes>"
      ]
     },
     "metadata": {
      "needs_background": "light"
     },
     "output_type": "display_data"
    }
   ],
   "source": [
    "# проверим модель на тестовой выборке используя лучшие настройки\n",
    "predictions_test = model_rfc.predict(features_test)\n",
    "print(\"F1 модели RandomForestClassifier на тестовой выборке:\", f1_score(target_test, predictions_test))\n",
    "\n",
    "probabilities_valid_rfc = model_rfc.predict_proba(features_test)\n",
    "probabilities_one_valid_rfc = probabilities_valid_rfc[:, 1]\n",
    "print(\"AUC-ROC модели RandomForestClassifier на тестовой выборке:\", roc_auc_score(target_test, probabilities_one_valid_rfc))\n",
    "\n",
    "def plot_roc_curve(fper, tper):\n",
    "    plt.plot(fper, tper, color='red', label='ROC')\n",
    "    plt.plot([0, 1], [0, 1], color='green', linestyle='--')\n",
    "    plt.xlim([0.0, 1.0])\n",
    "    plt.ylim([0.0, 1.0])\n",
    "    plt.xlabel('False Positive Rate')\n",
    "    plt.ylabel('True Positive Rate')\n",
    "    plt.title('ROC-кривая')\n",
    "    plt.legend()\n",
    "    plt.show()\n",
    "\n",
    "fper, tper, thresholds = roc_curve(target_test, probabilities_one_valid_rfc)\n",
    "plot_roc_curve(fper, tper)"
   ]
  },
  {
   "cell_type": "markdown",
   "metadata": {},
   "source": [
    "Что касается одекватности модели, то проверим её по метрике `AUC-ROC` у константной модели."
   ]
  },
  {
   "cell_type": "code",
   "execution_count": 19,
   "metadata": {},
   "outputs": [
    {
     "name": "stdout",
     "output_type": "stream",
     "text": [
      "AUC-ROC константой модели: 0.5\n"
     ]
    }
   ],
   "source": [
    "target_predict_constant = pd.Series([0]*len(target_test))\n",
    "target_predict_constant.value_counts()\n",
    "\n",
    "print('AUC-ROC константой модели:', roc_auc_score(target_test, target_predict_constant))"
   ]
  },
  {
   "cell_type": "markdown",
   "metadata": {},
   "source": [
    "***Вывод:*** У нас получилась модель со значением `F1=0.63` на тестовой выборке. Что касается адекватности, то `AUC-ROC` константой модели - `0.5`, а у нашей лучшей модели `AUC-ROC - 0.87`. Адекватность доказана."
   ]
  },
  {
   "cell_type": "markdown",
   "metadata": {},
   "source": [
    "## Итоговый вывод"
   ]
  },
  {
   "cell_type": "markdown",
   "metadata": {},
   "source": [
    "В начале исследования мы подготовили данные для обучения модели:\n",
    "- удалили пропуски в столбце `Tenure` (сколько лет человек является клиентом банка) - `909 штук` (олоко `9%` от всех данных) так как нет возможности их восстановить\n",
    "- мы переимменовали все названия столцов для удобства дальнейшего использования\n",
    "- и удалили часть столбцов, которые не нужны для обучения модели, а именно `row_number, surname, customer_id`\n",
    "- закодировали категориальные признаки как однократный числовой массив. Использовали метод OneHotEncoder\n",
    "- разбили датасет на `3` части. На обучающую выборку - это будет `60%` данных. На валидную и тестовую мы отвели по `20% (3|1|1)`\n",
    "- стандартизаровали данные при помощи `StandardScaler`.\n",
    "\n",
    "При поиске оптимальной модели мы обнаружили:\n",
    "Что существует заментый дисбаланс. Положительных значений значительно меньше. Лучшие показатели F1 у моделей `RandomForestClassifier`, где `F1=0.57` и `DecisionTreeClassifier` с таким же показателем, но значение `recall` у `DecisionTreeClassifier` больше. `0.47 к 0.44`, а вот с `AUC-ROC` моделей наоборот. У `RandomForestClassifier` больше. `0.85 к 0.83`.\n",
    "\n",
    "Мы сбалансировали модель `2` разными способами. Лучший результат показал вариант с уменьшением отрицательных целевых значений (`downsample`). А модель `RandomForestClassifier` со значением `F1=0.64 и AUC-ROC= 0.86` получилась лучше остальных. Показатель recall у неё `0.59`. На тестовой выборке она сохранила показатели метрики. Что касается адекватности, то `AUC-ROC` константой модели - `0.5`, а у нашей лучшей модели `AUC-ROC - 0.87`. Адекватность доказана."
   ]
  }
 ],
 "metadata": {
  "ExecuteTimeLog": [
   {
    "duration": 1189,
    "start_time": "2023-01-10T12:40:59.166Z"
   },
   {
    "duration": 4,
    "start_time": "2023-01-10T12:43:43.950Z"
   },
   {
    "duration": 2023,
    "start_time": "2023-01-10T12:43:44.365Z"
   },
   {
    "duration": 1689,
    "start_time": "2023-01-10T12:46:59.174Z"
   },
   {
    "duration": 124,
    "start_time": "2023-01-10T13:01:44.846Z"
   },
   {
    "duration": 11,
    "start_time": "2023-01-10T13:01:53.188Z"
   },
   {
    "duration": 10,
    "start_time": "2023-01-10T13:02:52.701Z"
   },
   {
    "duration": 9,
    "start_time": "2023-01-10T13:21:11.943Z"
   },
   {
    "duration": 8,
    "start_time": "2023-01-10T13:22:46.748Z"
   },
   {
    "duration": 35,
    "start_time": "2023-01-10T13:22:54.492Z"
   },
   {
    "duration": 9,
    "start_time": "2023-01-10T13:23:12.868Z"
   },
   {
    "duration": 14,
    "start_time": "2023-01-10T13:25:03.268Z"
   },
   {
    "duration": 13,
    "start_time": "2023-01-10T13:25:11.148Z"
   },
   {
    "duration": 14,
    "start_time": "2023-01-10T13:25:38.567Z"
   },
   {
    "duration": 9,
    "start_time": "2023-01-10T13:30:30.334Z"
   },
   {
    "duration": 15,
    "start_time": "2023-01-10T13:32:30.660Z"
   },
   {
    "duration": 13,
    "start_time": "2023-01-10T13:32:43.434Z"
   },
   {
    "duration": 21,
    "start_time": "2023-01-10T13:32:51.436Z"
   },
   {
    "duration": 12,
    "start_time": "2023-01-10T13:33:35.363Z"
   },
   {
    "duration": 1688,
    "start_time": "2023-01-10T13:33:53.396Z"
   },
   {
    "duration": 14,
    "start_time": "2023-01-10T13:34:03.540Z"
   },
   {
    "duration": 28,
    "start_time": "2023-01-10T13:34:20.892Z"
   },
   {
    "duration": 3,
    "start_time": "2023-01-10T13:34:51.196Z"
   },
   {
    "duration": 35,
    "start_time": "2023-01-10T13:35:10.780Z"
   },
   {
    "duration": 10,
    "start_time": "2023-01-10T13:35:18.133Z"
   },
   {
    "duration": 14,
    "start_time": "2023-01-10T13:35:19.948Z"
   },
   {
    "duration": 4,
    "start_time": "2023-01-10T13:35:27.556Z"
   },
   {
    "duration": 1585,
    "start_time": "2023-01-10T13:35:27.952Z"
   },
   {
    "duration": 4,
    "start_time": "2023-01-10T13:35:29.538Z"
   },
   {
    "duration": 7,
    "start_time": "2023-01-10T13:35:29.772Z"
   },
   {
    "duration": 9,
    "start_time": "2023-01-10T13:35:33.171Z"
   },
   {
    "duration": 20,
    "start_time": "2023-01-10T13:35:34.443Z"
   },
   {
    "duration": 13,
    "start_time": "2023-01-10T13:36:19.564Z"
   },
   {
    "duration": 6,
    "start_time": "2023-01-10T13:42:50.326Z"
   },
   {
    "duration": 4,
    "start_time": "2023-01-10T13:43:33.627Z"
   },
   {
    "duration": 1760,
    "start_time": "2023-01-10T13:43:33.974Z"
   },
   {
    "duration": 5,
    "start_time": "2023-01-10T13:43:41.719Z"
   },
   {
    "duration": 12,
    "start_time": "2023-01-11T09:08:42.029Z"
   },
   {
    "duration": 6,
    "start_time": "2023-01-11T09:08:47.602Z"
   },
   {
    "duration": 1832,
    "start_time": "2023-01-11T09:08:48.649Z"
   },
   {
    "duration": 14,
    "start_time": "2023-01-11T09:08:53.475Z"
   },
   {
    "duration": 7,
    "start_time": "2023-01-11T09:10:59.682Z"
   },
   {
    "duration": 36,
    "start_time": "2023-01-11T09:13:40.396Z"
   },
   {
    "duration": 9,
    "start_time": "2023-01-11T09:26:30.058Z"
   },
   {
    "duration": 130,
    "start_time": "2023-01-11T09:26:38.040Z"
   },
   {
    "duration": 259,
    "start_time": "2023-01-11T09:26:49.933Z"
   },
   {
    "duration": 116,
    "start_time": "2023-01-11T09:26:54.842Z"
   },
   {
    "duration": 39,
    "start_time": "2023-01-11T09:33:46.575Z"
   },
   {
    "duration": 13,
    "start_time": "2023-01-11T09:44:51.027Z"
   },
   {
    "duration": 12,
    "start_time": "2023-01-11T09:45:01.480Z"
   },
   {
    "duration": 2089,
    "start_time": "2023-01-11T09:48:56.533Z"
   },
   {
    "duration": 3,
    "start_time": "2023-01-11T09:49:05.694Z"
   },
   {
    "duration": 1527,
    "start_time": "2023-01-11T09:49:10.982Z"
   },
   {
    "duration": 4,
    "start_time": "2023-01-11T09:49:47.134Z"
   },
   {
    "duration": 1748,
    "start_time": "2023-01-11T09:50:48.462Z"
   },
   {
    "duration": 1182,
    "start_time": "2023-01-11T10:08:38.014Z"
   },
   {
    "duration": 2225,
    "start_time": "2023-01-11T10:08:39.199Z"
   },
   {
    "duration": 12,
    "start_time": "2023-01-11T10:08:41.426Z"
   },
   {
    "duration": 4,
    "start_time": "2023-01-11T10:08:41.439Z"
   },
   {
    "duration": 5,
    "start_time": "2023-01-11T10:08:43.675Z"
   },
   {
    "duration": 12,
    "start_time": "2023-01-11T10:08:46.212Z"
   },
   {
    "duration": 129,
    "start_time": "2023-01-11T10:08:49.225Z"
   },
   {
    "duration": 13,
    "start_time": "2023-01-11T10:08:52.500Z"
   },
   {
    "duration": 434,
    "start_time": "2023-01-11T10:08:55.597Z"
   },
   {
    "duration": 64,
    "start_time": "2023-01-11T10:09:20.125Z"
   },
   {
    "duration": 147383,
    "start_time": "2023-01-11T10:10:19.956Z"
   },
   {
    "duration": 131205,
    "start_time": "2023-01-11T10:45:25.096Z"
   },
   {
    "duration": 11044,
    "start_time": "2023-01-11T10:48:00.999Z"
   },
   {
    "duration": 25312,
    "start_time": "2023-01-11T10:48:39.791Z"
   },
   {
    "duration": 18222,
    "start_time": "2023-01-11T10:49:17.774Z"
   },
   {
    "duration": 36221,
    "start_time": "2023-01-11T10:49:49.543Z"
   },
   {
    "duration": 150389,
    "start_time": "2023-01-11T10:50:37.245Z"
   },
   {
    "duration": 4,
    "start_time": "2023-01-11T10:55:01.567Z"
   },
   {
    "duration": 4,
    "start_time": "2023-01-11T11:04:49.502Z"
   },
   {
    "duration": 22,
    "start_time": "2023-01-11T11:10:06.319Z"
   },
   {
    "duration": 145,
    "start_time": "2023-01-11T11:12:41.640Z"
   },
   {
    "duration": 13,
    "start_time": "2023-01-11T11:15:19.374Z"
   },
   {
    "duration": 20,
    "start_time": "2023-01-11T11:16:42.054Z"
   },
   {
    "duration": 22,
    "start_time": "2023-01-11T11:16:55.398Z"
   },
   {
    "duration": 1161,
    "start_time": "2023-01-11T11:17:44.648Z"
   },
   {
    "duration": 2086,
    "start_time": "2023-01-11T11:17:45.811Z"
   },
   {
    "duration": 11,
    "start_time": "2023-01-11T11:17:47.899Z"
   },
   {
    "duration": 9,
    "start_time": "2023-01-11T11:17:47.921Z"
   },
   {
    "duration": 29,
    "start_time": "2023-01-11T11:17:47.932Z"
   },
   {
    "duration": 12,
    "start_time": "2023-01-11T11:17:48.279Z"
   },
   {
    "duration": 109,
    "start_time": "2023-01-11T11:17:51.167Z"
   },
   {
    "duration": 11,
    "start_time": "2023-01-11T11:17:53.246Z"
   },
   {
    "duration": 532,
    "start_time": "2023-01-11T11:17:54.607Z"
   },
   {
    "duration": 157,
    "start_time": "2023-01-11T11:17:55.223Z"
   },
   {
    "duration": 126,
    "start_time": "2023-01-11T11:18:11.037Z"
   },
   {
    "duration": 4,
    "start_time": "2023-01-11T11:19:16.647Z"
   },
   {
    "duration": 107,
    "start_time": "2023-01-11T11:19:22.352Z"
   },
   {
    "duration": 113,
    "start_time": "2023-01-11T11:19:30.648Z"
   },
   {
    "duration": 150,
    "start_time": "2023-01-11T11:21:40.814Z"
   },
   {
    "duration": 106,
    "start_time": "2023-01-11T11:21:46.845Z"
   },
   {
    "duration": 20,
    "start_time": "2023-01-11T11:21:55.799Z"
   },
   {
    "duration": 103,
    "start_time": "2023-01-11T11:22:07.776Z"
   },
   {
    "duration": 21,
    "start_time": "2023-01-11T11:22:12.026Z"
   },
   {
    "duration": 1207,
    "start_time": "2023-01-11T11:24:27.890Z"
   },
   {
    "duration": 2126,
    "start_time": "2023-01-11T11:24:29.099Z"
   },
   {
    "duration": 15,
    "start_time": "2023-01-11T11:24:31.227Z"
   },
   {
    "duration": 37,
    "start_time": "2023-01-11T11:24:31.246Z"
   },
   {
    "duration": 20,
    "start_time": "2023-01-11T11:24:31.285Z"
   },
   {
    "duration": 60,
    "start_time": "2023-01-11T11:24:31.307Z"
   },
   {
    "duration": 149,
    "start_time": "2023-01-11T11:24:31.369Z"
   },
   {
    "duration": 13,
    "start_time": "2023-01-11T11:24:31.520Z"
   },
   {
    "duration": 703,
    "start_time": "2023-01-11T11:24:31.535Z"
   },
   {
    "duration": 144,
    "start_time": "2023-01-11T11:24:32.254Z"
   },
   {
    "duration": 14735,
    "start_time": "2023-01-11T11:24:32.400Z"
   },
   {
    "duration": 119,
    "start_time": "2023-01-11T11:24:47.137Z"
   },
   {
    "duration": 17,
    "start_time": "2023-01-11T11:24:47.258Z"
   },
   {
    "duration": 5,
    "start_time": "2023-01-11T11:24:47.277Z"
   },
   {
    "duration": 5,
    "start_time": "2023-01-11T11:24:47.284Z"
   },
   {
    "duration": 1187,
    "start_time": "2023-01-11T11:24:52.793Z"
   },
   {
    "duration": 2117,
    "start_time": "2023-01-11T11:24:53.982Z"
   },
   {
    "duration": 10,
    "start_time": "2023-01-11T11:24:56.101Z"
   },
   {
    "duration": 35,
    "start_time": "2023-01-11T11:24:56.122Z"
   },
   {
    "duration": 48,
    "start_time": "2023-01-11T11:24:56.159Z"
   },
   {
    "duration": 56,
    "start_time": "2023-01-11T11:24:56.208Z"
   },
   {
    "duration": 164,
    "start_time": "2023-01-11T11:24:56.266Z"
   },
   {
    "duration": 14,
    "start_time": "2023-01-11T11:24:56.431Z"
   },
   {
    "duration": 485,
    "start_time": "2023-01-11T11:24:56.446Z"
   },
   {
    "duration": 163,
    "start_time": "2023-01-11T11:24:56.933Z"
   },
   {
    "duration": 3,
    "start_time": "2023-01-11T11:24:57.098Z"
   },
   {
    "duration": 112,
    "start_time": "2023-01-11T11:24:57.127Z"
   },
   {
    "duration": 22,
    "start_time": "2023-01-11T11:24:57.240Z"
   },
   {
    "duration": 6,
    "start_time": "2023-01-11T11:24:57.263Z"
   },
   {
    "duration": 5,
    "start_time": "2023-01-11T11:24:57.270Z"
   },
   {
    "duration": 17,
    "start_time": "2023-01-11T11:28:19.548Z"
   },
   {
    "duration": 127,
    "start_time": "2023-01-11T11:31:58.849Z"
   },
   {
    "duration": 24,
    "start_time": "2023-01-11T11:32:04.568Z"
   },
   {
    "duration": 1269,
    "start_time": "2023-01-11T11:33:10.420Z"
   },
   {
    "duration": 2098,
    "start_time": "2023-01-11T11:33:11.691Z"
   },
   {
    "duration": 11,
    "start_time": "2023-01-11T11:33:13.791Z"
   },
   {
    "duration": 22,
    "start_time": "2023-01-11T11:33:13.804Z"
   },
   {
    "duration": 37,
    "start_time": "2023-01-11T11:33:13.828Z"
   },
   {
    "duration": 21,
    "start_time": "2023-01-11T11:33:13.868Z"
   },
   {
    "duration": 136,
    "start_time": "2023-01-11T11:33:13.891Z"
   },
   {
    "duration": 15,
    "start_time": "2023-01-11T11:33:14.029Z"
   },
   {
    "duration": 896,
    "start_time": "2023-01-11T11:33:14.046Z"
   },
   {
    "duration": 148,
    "start_time": "2023-01-11T11:33:14.948Z"
   },
   {
    "duration": 28,
    "start_time": "2023-01-11T11:33:15.098Z"
   },
   {
    "duration": 141,
    "start_time": "2023-01-11T11:33:15.128Z"
   },
   {
    "duration": 2,
    "start_time": "2023-01-11T11:33:15.271Z"
   },
   {
    "duration": 32,
    "start_time": "2023-01-11T11:33:15.275Z"
   },
   {
    "duration": 17,
    "start_time": "2023-01-11T11:33:15.308Z"
   },
   {
    "duration": 48,
    "start_time": "2023-01-11T11:33:15.327Z"
   },
   {
    "duration": 151,
    "start_time": "2023-01-11T11:36:06.576Z"
   },
   {
    "duration": 32,
    "start_time": "2023-01-11T11:36:28.001Z"
   },
   {
    "duration": 23,
    "start_time": "2023-01-11T11:36:36.852Z"
   },
   {
    "duration": 15,
    "start_time": "2023-01-11T11:36:47.984Z"
   },
   {
    "duration": 24,
    "start_time": "2023-01-11T11:37:06.248Z"
   },
   {
    "duration": 21,
    "start_time": "2023-01-11T11:38:54.105Z"
   },
   {
    "duration": 9,
    "start_time": "2023-01-11T12:14:38.672Z"
   },
   {
    "duration": 18,
    "start_time": "2023-01-11T12:14:46.495Z"
   },
   {
    "duration": 19,
    "start_time": "2023-01-11T12:14:57.472Z"
   },
   {
    "duration": 19,
    "start_time": "2023-01-11T12:15:14.643Z"
   },
   {
    "duration": 19,
    "start_time": "2023-01-11T12:16:55.273Z"
   },
   {
    "duration": 18,
    "start_time": "2023-01-11T12:17:46.217Z"
   },
   {
    "duration": 7,
    "start_time": "2023-01-11T12:17:50.969Z"
   },
   {
    "duration": 97,
    "start_time": "2023-01-11T12:18:16.968Z"
   },
   {
    "duration": 101,
    "start_time": "2023-01-11T12:18:19.680Z"
   },
   {
    "duration": 101,
    "start_time": "2023-01-11T12:18:42.584Z"
   },
   {
    "duration": 7,
    "start_time": "2023-01-11T12:18:44.416Z"
   },
   {
    "duration": 109,
    "start_time": "2023-01-11T13:46:12.023Z"
   },
   {
    "duration": 5,
    "start_time": "2023-01-11T13:57:25.678Z"
   },
   {
    "duration": 34,
    "start_time": "2023-01-11T14:00:38.343Z"
   },
   {
    "duration": 29,
    "start_time": "2023-01-11T14:01:52.340Z"
   },
   {
    "duration": 1223,
    "start_time": "2023-01-11T14:02:14.138Z"
   },
   {
    "duration": 1907,
    "start_time": "2023-01-11T14:02:15.619Z"
   },
   {
    "duration": 12,
    "start_time": "2023-01-11T14:02:23.049Z"
   },
   {
    "duration": 4,
    "start_time": "2023-01-11T14:02:25.658Z"
   },
   {
    "duration": 6,
    "start_time": "2023-01-11T14:02:29.297Z"
   },
   {
    "duration": 11,
    "start_time": "2023-01-11T14:02:34.649Z"
   },
   {
    "duration": 11,
    "start_time": "2023-01-11T14:02:40.753Z"
   },
   {
    "duration": 41,
    "start_time": "2023-01-11T14:02:45.842Z"
   },
   {
    "duration": 1285,
    "start_time": "2023-01-11T14:03:32.687Z"
   },
   {
    "duration": 1265,
    "start_time": "2023-01-11T14:04:08.180Z"
   },
   {
    "duration": 1809,
    "start_time": "2023-01-11T14:04:27.197Z"
   },
   {
    "duration": 12,
    "start_time": "2023-01-11T14:04:54.243Z"
   },
   {
    "duration": 20,
    "start_time": "2023-01-11T14:04:58.534Z"
   },
   {
    "duration": 7,
    "start_time": "2023-01-11T14:05:09.117Z"
   },
   {
    "duration": 1147,
    "start_time": "2023-01-11T14:05:18.884Z"
   },
   {
    "duration": 1228,
    "start_time": "2023-01-11T14:05:39.941Z"
   },
   {
    "duration": 1942,
    "start_time": "2023-01-11T14:05:41.293Z"
   },
   {
    "duration": 13,
    "start_time": "2023-01-11T14:05:46.797Z"
   },
   {
    "duration": 4,
    "start_time": "2023-01-11T14:05:52.557Z"
   },
   {
    "duration": 6,
    "start_time": "2023-01-11T14:05:53.806Z"
   },
   {
    "duration": 16,
    "start_time": "2023-01-11T14:06:14.360Z"
   },
   {
    "duration": 33,
    "start_time": "2023-01-11T14:06:28.101Z"
   },
   {
    "duration": 28,
    "start_time": "2023-01-11T14:07:23.502Z"
   },
   {
    "duration": 20,
    "start_time": "2023-01-11T14:07:47.157Z"
   },
   {
    "duration": 1223,
    "start_time": "2023-01-11T14:10:25.292Z"
   },
   {
    "duration": 1871,
    "start_time": "2023-01-11T14:10:26.517Z"
   },
   {
    "duration": 11,
    "start_time": "2023-01-11T14:10:28.390Z"
   },
   {
    "duration": 4,
    "start_time": "2023-01-11T14:10:29.604Z"
   },
   {
    "duration": 6,
    "start_time": "2023-01-11T14:10:32.972Z"
   },
   {
    "duration": 11,
    "start_time": "2023-01-11T14:10:39.832Z"
   },
   {
    "duration": 33,
    "start_time": "2023-01-11T14:10:44.493Z"
   },
   {
    "duration": 1219,
    "start_time": "2023-01-11T14:12:12.813Z"
   },
   {
    "duration": 1964,
    "start_time": "2023-01-11T14:12:14.035Z"
   },
   {
    "duration": 20,
    "start_time": "2023-01-11T14:12:16.002Z"
   },
   {
    "duration": 43,
    "start_time": "2023-01-11T14:12:16.023Z"
   },
   {
    "duration": 5,
    "start_time": "2023-01-11T14:12:18.029Z"
   },
   {
    "duration": 11,
    "start_time": "2023-01-11T14:12:19.565Z"
   },
   {
    "duration": 11,
    "start_time": "2023-01-11T14:12:21.109Z"
   },
   {
    "duration": 32,
    "start_time": "2023-01-11T14:12:23.573Z"
   },
   {
    "duration": 43,
    "start_time": "2023-01-11T14:15:01.501Z"
   },
   {
    "duration": 40,
    "start_time": "2023-01-11T14:15:41.445Z"
   },
   {
    "duration": 51,
    "start_time": "2023-01-11T14:15:50.085Z"
   },
   {
    "duration": 49,
    "start_time": "2023-01-11T14:16:44.093Z"
   },
   {
    "duration": 50,
    "start_time": "2023-01-11T14:16:53.213Z"
   },
   {
    "duration": 35,
    "start_time": "2023-01-11T14:17:10.837Z"
   },
   {
    "duration": 50,
    "start_time": "2023-01-11T14:18:44.975Z"
   },
   {
    "duration": 1201,
    "start_time": "2023-01-11T14:20:22.078Z"
   },
   {
    "duration": 2125,
    "start_time": "2023-01-11T14:20:23.281Z"
   },
   {
    "duration": 23,
    "start_time": "2023-01-11T14:20:25.409Z"
   },
   {
    "duration": 22,
    "start_time": "2023-01-11T14:20:25.434Z"
   },
   {
    "duration": 26,
    "start_time": "2023-01-11T14:20:25.458Z"
   },
   {
    "duration": 20,
    "start_time": "2023-01-11T14:20:25.487Z"
   },
   {
    "duration": 42,
    "start_time": "2023-01-11T14:20:25.509Z"
   },
   {
    "duration": 39,
    "start_time": "2023-01-11T14:20:34.406Z"
   },
   {
    "duration": 47,
    "start_time": "2023-01-11T14:20:51.606Z"
   },
   {
    "duration": 33,
    "start_time": "2023-01-11T14:21:01.943Z"
   },
   {
    "duration": 30,
    "start_time": "2023-01-11T14:21:17.141Z"
   },
   {
    "duration": 38,
    "start_time": "2023-01-11T14:21:57.223Z"
   },
   {
    "duration": 39,
    "start_time": "2023-01-11T14:22:25.818Z"
   },
   {
    "duration": 3,
    "start_time": "2023-01-11T14:24:23.749Z"
   },
   {
    "duration": 1654,
    "start_time": "2023-01-11T14:24:23.770Z"
   },
   {
    "duration": 10,
    "start_time": "2023-01-11T14:24:25.426Z"
   },
   {
    "duration": 3,
    "start_time": "2023-01-11T14:24:25.438Z"
   },
   {
    "duration": 8,
    "start_time": "2023-01-11T14:24:25.443Z"
   },
   {
    "duration": 11,
    "start_time": "2023-01-11T14:24:25.452Z"
   },
   {
    "duration": 12,
    "start_time": "2023-01-11T14:24:25.465Z"
   },
   {
    "duration": 54,
    "start_time": "2023-01-11T14:24:25.479Z"
   },
   {
    "duration": 79,
    "start_time": "2023-01-11T14:25:05.066Z"
   },
   {
    "duration": 15,
    "start_time": "2023-01-11T14:25:31.384Z"
   },
   {
    "duration": 18,
    "start_time": "2023-01-11T14:25:54.822Z"
   },
   {
    "duration": 23,
    "start_time": "2023-01-11T14:26:28.081Z"
   },
   {
    "duration": 22,
    "start_time": "2023-01-11T14:26:36.942Z"
   },
   {
    "duration": 1167,
    "start_time": "2023-01-11T14:27:48.853Z"
   },
   {
    "duration": 2007,
    "start_time": "2023-01-11T14:27:50.024Z"
   },
   {
    "duration": 13,
    "start_time": "2023-01-11T14:27:52.033Z"
   },
   {
    "duration": 3,
    "start_time": "2023-01-11T14:27:52.108Z"
   },
   {
    "duration": 5,
    "start_time": "2023-01-11T14:27:53.205Z"
   },
   {
    "duration": 10,
    "start_time": "2023-01-11T14:28:02.773Z"
   },
   {
    "duration": 14,
    "start_time": "2023-01-11T14:28:04.340Z"
   },
   {
    "duration": 28,
    "start_time": "2023-01-11T14:28:07.373Z"
   },
   {
    "duration": 24,
    "start_time": "2023-01-11T14:28:17.684Z"
   },
   {
    "duration": 39,
    "start_time": "2023-01-11T14:28:23.820Z"
   },
   {
    "duration": 1152,
    "start_time": "2023-01-11T14:30:06.189Z"
   },
   {
    "duration": 1832,
    "start_time": "2023-01-11T14:30:07.343Z"
   },
   {
    "duration": 11,
    "start_time": "2023-01-11T14:30:09.177Z"
   },
   {
    "duration": 4,
    "start_time": "2023-01-11T14:30:09.332Z"
   },
   {
    "duration": 5,
    "start_time": "2023-01-11T14:30:11.806Z"
   },
   {
    "duration": 114,
    "start_time": "2023-01-11T14:30:21.725Z"
   },
   {
    "duration": 11,
    "start_time": "2023-01-11T14:30:26.828Z"
   },
   {
    "duration": 12,
    "start_time": "2023-01-11T14:30:27.893Z"
   },
   {
    "duration": 29,
    "start_time": "2023-01-11T14:30:30.745Z"
   },
   {
    "duration": 19,
    "start_time": "2023-01-11T14:30:31.997Z"
   },
   {
    "duration": 19,
    "start_time": "2023-01-11T14:30:37.846Z"
   },
   {
    "duration": 30,
    "start_time": "2023-01-11T14:30:44.044Z"
   },
   {
    "duration": 11,
    "start_time": "2023-01-11T14:31:24.712Z"
   },
   {
    "duration": 71,
    "start_time": "2023-01-11T14:33:29.261Z"
   },
   {
    "duration": 29,
    "start_time": "2023-01-11T14:34:14.459Z"
   },
   {
    "duration": 62,
    "start_time": "2023-01-11T14:34:29.069Z"
   },
   {
    "duration": 77,
    "start_time": "2023-01-11T14:34:44.789Z"
   },
   {
    "duration": 313,
    "start_time": "2023-01-11T14:35:08.061Z"
   },
   {
    "duration": 19,
    "start_time": "2023-01-11T14:36:36.716Z"
   },
   {
    "duration": 293,
    "start_time": "2023-01-11T14:36:38.533Z"
   },
   {
    "duration": 143736,
    "start_time": "2023-01-11T14:36:49.900Z"
   },
   {
    "duration": 106,
    "start_time": "2023-01-11T14:40:10.203Z"
   },
   {
    "duration": 427,
    "start_time": "2023-01-11T14:40:24.667Z"
   },
   {
    "duration": 399,
    "start_time": "2023-01-11T14:41:53.550Z"
   },
   {
    "duration": 433,
    "start_time": "2023-01-11T14:41:59.704Z"
   },
   {
    "duration": 352,
    "start_time": "2023-01-11T14:42:04.684Z"
   },
   {
    "duration": 309,
    "start_time": "2023-01-11T14:45:21.836Z"
   },
   {
    "duration": 400,
    "start_time": "2023-01-11T14:54:54.788Z"
   },
   {
    "duration": 449,
    "start_time": "2023-01-11T14:56:31.369Z"
   },
   {
    "duration": 688,
    "start_time": "2023-01-11T14:57:57.139Z"
   },
   {
    "duration": 259,
    "start_time": "2023-01-11T14:58:04.380Z"
   },
   {
    "duration": 426,
    "start_time": "2023-01-11T14:58:35.697Z"
   },
   {
    "duration": 510,
    "start_time": "2023-01-11T14:59:36.212Z"
   },
   {
    "duration": 420,
    "start_time": "2023-01-11T15:00:00.003Z"
   },
   {
    "duration": 452,
    "start_time": "2023-01-11T15:00:30.073Z"
   },
   {
    "duration": 402,
    "start_time": "2023-01-11T15:01:03.523Z"
   },
   {
    "duration": 418,
    "start_time": "2023-01-11T15:01:12.007Z"
   },
   {
    "duration": 454,
    "start_time": "2023-01-11T15:02:04.372Z"
   },
   {
    "duration": 21,
    "start_time": "2023-01-11T15:02:09.484Z"
   },
   {
    "duration": 217,
    "start_time": "2023-01-11T15:02:21.007Z"
   },
   {
    "duration": 178,
    "start_time": "2023-01-11T15:02:27.845Z"
   },
   {
    "duration": 201,
    "start_time": "2023-01-11T15:02:32.330Z"
   },
   {
    "duration": 253,
    "start_time": "2023-01-11T15:02:36.972Z"
   },
   {
    "duration": 255,
    "start_time": "2023-01-11T15:02:43.571Z"
   },
   {
    "duration": 248,
    "start_time": "2023-01-11T15:02:47.590Z"
   },
   {
    "duration": 284,
    "start_time": "2023-01-11T15:02:51.243Z"
   },
   {
    "duration": 4,
    "start_time": "2023-01-11T15:07:04.179Z"
   },
   {
    "duration": 11,
    "start_time": "2023-01-11T15:09:21.842Z"
   },
   {
    "duration": 241,
    "start_time": "2023-01-11T15:09:58.284Z"
   },
   {
    "duration": 10,
    "start_time": "2023-01-11T15:12:37.069Z"
   },
   {
    "duration": 14,
    "start_time": "2023-01-11T15:13:33.053Z"
   },
   {
    "duration": 84,
    "start_time": "2023-01-11T15:14:08.142Z"
   },
   {
    "duration": 80,
    "start_time": "2023-01-11T15:15:08.748Z"
   },
   {
    "duration": 42,
    "start_time": "2023-01-11T15:15:20.005Z"
   },
   {
    "duration": 489,
    "start_time": "2023-01-11T15:15:32.633Z"
   },
   {
    "duration": 54,
    "start_time": "2023-01-11T15:15:38.070Z"
   },
   {
    "duration": 249,
    "start_time": "2023-01-11T15:15:53.476Z"
   },
   {
    "duration": 243,
    "start_time": "2023-01-11T15:15:58.084Z"
   },
   {
    "duration": 92,
    "start_time": "2023-01-11T15:16:03.132Z"
   },
   {
    "duration": 217,
    "start_time": "2023-01-11T15:18:15.909Z"
   },
   {
    "duration": 41,
    "start_time": "2023-01-11T15:18:17.844Z"
   },
   {
    "duration": 41,
    "start_time": "2023-01-11T15:19:39.438Z"
   },
   {
    "duration": 26,
    "start_time": "2023-01-11T15:20:08.517Z"
   },
   {
    "duration": 45,
    "start_time": "2023-01-11T15:21:44.732Z"
   },
   {
    "duration": 56,
    "start_time": "2023-01-11T15:24:19.260Z"
   },
   {
    "duration": 3,
    "start_time": "2023-01-11T15:25:52.949Z"
   },
   {
    "duration": 62,
    "start_time": "2023-01-11T15:25:58.252Z"
   },
   {
    "duration": 4,
    "start_time": "2023-01-11T15:26:33.068Z"
   },
   {
    "duration": 192,
    "start_time": "2023-01-11T15:26:37.828Z"
   },
   {
    "duration": 27,
    "start_time": "2023-01-11T15:36:06.165Z"
   },
   {
    "duration": 21,
    "start_time": "2023-01-11T15:36:27.303Z"
   },
   {
    "duration": 7,
    "start_time": "2023-01-11T15:36:48.557Z"
   },
   {
    "duration": 1431,
    "start_time": "2023-01-11T15:49:40.532Z"
   },
   {
    "duration": 1709,
    "start_time": "2023-01-11T15:49:41.965Z"
   },
   {
    "duration": 12,
    "start_time": "2023-01-11T15:49:43.679Z"
   },
   {
    "duration": 21,
    "start_time": "2023-01-11T15:49:43.694Z"
   },
   {
    "duration": 41,
    "start_time": "2023-01-11T15:49:43.717Z"
   },
   {
    "duration": 34,
    "start_time": "2023-01-11T15:49:43.760Z"
   },
   {
    "duration": 60,
    "start_time": "2023-01-11T15:49:43.795Z"
   },
   {
    "duration": 43,
    "start_time": "2023-01-11T15:49:43.857Z"
   },
   {
    "duration": 34,
    "start_time": "2023-01-11T15:49:43.902Z"
   },
   {
    "duration": 158,
    "start_time": "2023-01-11T15:49:43.938Z"
   },
   {
    "duration": 48,
    "start_time": "2023-01-11T15:49:44.098Z"
   },
   {
    "duration": 494,
    "start_time": "2023-01-11T15:49:44.149Z"
   },
   {
    "duration": 148679,
    "start_time": "2023-01-11T15:49:44.645Z"
   },
   {
    "duration": 426,
    "start_time": "2023-01-11T15:52:13.326Z"
   },
   {
    "duration": 187,
    "start_time": "2023-01-11T15:52:13.754Z"
   },
   {
    "duration": 415,
    "start_time": "2023-01-11T15:52:13.942Z"
   },
   {
    "duration": 179,
    "start_time": "2023-01-11T15:52:14.359Z"
   },
   {
    "duration": 351,
    "start_time": "2023-01-11T15:52:14.540Z"
   },
   {
    "duration": 9,
    "start_time": "2023-01-11T15:52:14.893Z"
   },
   {
    "duration": 1563,
    "start_time": "2023-01-17T09:30:46.809Z"
   },
   {
    "duration": 1589,
    "start_time": "2023-01-17T09:30:48.374Z"
   },
   {
    "duration": 15,
    "start_time": "2023-01-17T09:30:54.083Z"
   },
   {
    "duration": 14,
    "start_time": "2023-01-17T09:31:03.303Z"
   },
   {
    "duration": 22,
    "start_time": "2023-01-17T09:31:41.600Z"
   },
   {
    "duration": 407,
    "start_time": "2023-01-17T09:34:49.415Z"
   },
   {
    "duration": 4,
    "start_time": "2023-01-17T09:34:59.769Z"
   },
   {
    "duration": 1677,
    "start_time": "2023-01-17T09:34:59.776Z"
   },
   {
    "duration": 12,
    "start_time": "2023-01-17T09:35:01.455Z"
   },
   {
    "duration": 42,
    "start_time": "2023-01-17T09:35:01.479Z"
   },
   {
    "duration": 4,
    "start_time": "2023-01-17T09:35:07.308Z"
   },
   {
    "duration": 23,
    "start_time": "2023-01-17T09:35:15.151Z"
   },
   {
    "duration": 8,
    "start_time": "2023-01-17T10:27:00.542Z"
   },
   {
    "duration": 9213,
    "start_time": "2023-01-17T10:34:21.666Z"
   },
   {
    "duration": 13,
    "start_time": "2023-01-17T10:38:20.987Z"
   },
   {
    "duration": 12,
    "start_time": "2023-01-17T10:38:27.531Z"
   },
   {
    "duration": 6,
    "start_time": "2023-01-17T10:38:31.283Z"
   },
   {
    "duration": 20,
    "start_time": "2023-01-17T10:45:35.923Z"
   },
   {
    "duration": 9,
    "start_time": "2023-01-17T10:46:32.203Z"
   },
   {
    "duration": 14,
    "start_time": "2023-01-17T10:46:40.851Z"
   },
   {
    "duration": 4,
    "start_time": "2023-01-17T10:48:26.618Z"
   },
   {
    "duration": 1579,
    "start_time": "2023-01-17T10:48:27.609Z"
   },
   {
    "duration": 9,
    "start_time": "2023-01-17T10:48:29.395Z"
   },
   {
    "duration": 3,
    "start_time": "2023-01-17T10:48:30.378Z"
   },
   {
    "duration": 6,
    "start_time": "2023-01-17T10:48:32.986Z"
   },
   {
    "duration": 11,
    "start_time": "2023-01-17T10:48:35.443Z"
   },
   {
    "duration": 16,
    "start_time": "2023-01-17T10:48:38.788Z"
   },
   {
    "duration": 4,
    "start_time": "2023-01-17T10:50:19.379Z"
   },
   {
    "duration": 18,
    "start_time": "2023-01-17T10:50:24.787Z"
   },
   {
    "duration": 1905,
    "start_time": "2023-01-17T10:50:44.258Z"
   },
   {
    "duration": 1914,
    "start_time": "2023-01-17T10:51:07.074Z"
   },
   {
    "duration": 1243,
    "start_time": "2023-01-17T10:51:09.481Z"
   },
   {
    "duration": 1458,
    "start_time": "2023-01-17T10:51:10.726Z"
   },
   {
    "duration": 10,
    "start_time": "2023-01-17T10:51:33.553Z"
   },
   {
    "duration": 4,
    "start_time": "2023-01-17T10:51:34.732Z"
   },
   {
    "duration": 6,
    "start_time": "2023-01-17T10:51:36.370Z"
   },
   {
    "duration": 12,
    "start_time": "2023-01-17T10:51:37.753Z"
   },
   {
    "duration": 7,
    "start_time": "2023-01-17T10:51:39.722Z"
   },
   {
    "duration": 11,
    "start_time": "2023-01-17T10:51:46.610Z"
   },
   {
    "duration": 104,
    "start_time": "2023-01-17T10:51:48.707Z"
   },
   {
    "duration": 21,
    "start_time": "2023-01-17T10:53:01.548Z"
   },
   {
    "duration": 11,
    "start_time": "2023-01-17T10:56:02.939Z"
   },
   {
    "duration": 18,
    "start_time": "2023-01-17T10:56:04.363Z"
   },
   {
    "duration": 10,
    "start_time": "2023-01-17T10:56:34.481Z"
   },
   {
    "duration": 21,
    "start_time": "2023-01-17T10:56:36.587Z"
   },
   {
    "duration": 12,
    "start_time": "2023-01-17T10:56:51.882Z"
   },
   {
    "duration": 25,
    "start_time": "2023-01-17T10:57:11.178Z"
   },
   {
    "duration": 16,
    "start_time": "2023-01-17T10:57:13.914Z"
   },
   {
    "duration": 14,
    "start_time": "2023-01-17T10:58:06.587Z"
   },
   {
    "duration": 98,
    "start_time": "2023-01-17T10:58:09.658Z"
   },
   {
    "duration": 106,
    "start_time": "2023-01-17T10:58:17.925Z"
   },
   {
    "duration": 208,
    "start_time": "2023-01-17T11:00:29.273Z"
   },
   {
    "duration": 188,
    "start_time": "2023-01-17T11:03:12.593Z"
   },
   {
    "duration": 4,
    "start_time": "2023-01-17T11:03:58.290Z"
   },
   {
    "duration": 190,
    "start_time": "2023-01-17T11:04:15.993Z"
   },
   {
    "duration": 202,
    "start_time": "2023-01-17T11:04:29.617Z"
   },
   {
    "duration": 29,
    "start_time": "2023-01-17T11:04:39.258Z"
   },
   {
    "duration": 329,
    "start_time": "2023-01-17T11:08:26.266Z"
   },
   {
    "duration": 83,
    "start_time": "2023-01-17T11:09:55.474Z"
   },
   {
    "duration": 116,
    "start_time": "2023-01-17T11:10:05.514Z"
   },
   {
    "duration": 312,
    "start_time": "2023-01-17T11:11:10.991Z"
   },
   {
    "duration": 314,
    "start_time": "2023-01-17T11:11:51.050Z"
   },
   {
    "duration": 338,
    "start_time": "2023-01-17T11:12:01.443Z"
   },
   {
    "duration": 296,
    "start_time": "2023-01-17T11:12:53.450Z"
   },
   {
    "duration": 297,
    "start_time": "2023-01-17T11:13:04.938Z"
   },
   {
    "duration": 282,
    "start_time": "2023-01-17T11:14:29.779Z"
   },
   {
    "duration": 277,
    "start_time": "2023-01-17T11:14:33.418Z"
   },
   {
    "duration": 321,
    "start_time": "2023-01-17T11:15:55.618Z"
   },
   {
    "duration": 339,
    "start_time": "2023-01-17T11:19:08.891Z"
   },
   {
    "duration": 42,
    "start_time": "2023-01-17T11:19:52.123Z"
   },
   {
    "duration": 292,
    "start_time": "2023-01-17T11:20:13.466Z"
   },
   {
    "duration": 28,
    "start_time": "2023-01-17T11:20:31.562Z"
   },
   {
    "duration": 283,
    "start_time": "2023-01-17T11:20:55.378Z"
   },
   {
    "duration": 32,
    "start_time": "2023-01-17T11:21:05.714Z"
   },
   {
    "duration": 26,
    "start_time": "2023-01-17T11:22:21.179Z"
   },
   {
    "duration": 138974,
    "start_time": "2023-01-17T11:25:15.273Z"
   },
   {
    "duration": 271,
    "start_time": "2023-01-17T11:27:34.248Z"
   },
   {
    "duration": 116,
    "start_time": "2023-01-17T11:33:53.916Z"
   },
   {
    "duration": 11,
    "start_time": "2023-01-17T11:33:58.832Z"
   },
   {
    "duration": 34,
    "start_time": "2023-01-17T11:34:00.354Z"
   },
   {
    "duration": 259,
    "start_time": "2023-01-17T11:34:46.251Z"
   },
   {
    "duration": 334,
    "start_time": "2023-01-17T11:35:08.738Z"
   },
   {
    "duration": 29,
    "start_time": "2023-01-17T11:35:57.267Z"
   },
   {
    "duration": 187322,
    "start_time": "2023-01-17T11:37:00.490Z"
   },
   {
    "duration": 483,
    "start_time": "2023-01-17T11:41:33.939Z"
   },
   {
    "duration": 600,
    "start_time": "2023-01-17T11:41:48.243Z"
   },
   {
    "duration": 10,
    "start_time": "2023-01-17T11:42:58.196Z"
   },
   {
    "duration": 105,
    "start_time": "2023-01-17T11:43:31.229Z"
   },
   {
    "duration": 23,
    "start_time": "2023-01-17T11:44:08.355Z"
   },
   {
    "duration": 188,
    "start_time": "2023-01-17T11:44:44.611Z"
   },
   {
    "duration": 21,
    "start_time": "2023-01-17T11:45:08.330Z"
   },
   {
    "duration": 103949,
    "start_time": "2023-01-17T11:45:31.138Z"
   },
   {
    "duration": 23,
    "start_time": "2023-01-17T11:47:15.089Z"
   },
   {
    "duration": 430,
    "start_time": "2023-01-17T11:51:39.043Z"
   },
   {
    "duration": 220,
    "start_time": "2023-01-17T12:02:57.228Z"
   }
  ],
  "kernelspec": {
   "display_name": "Python 3 (ipykernel)",
   "language": "python",
   "name": "python3"
  },
  "language_info": {
   "codemirror_mode": {
    "name": "ipython",
    "version": 3
   },
   "file_extension": ".py",
   "mimetype": "text/x-python",
   "name": "python",
   "nbconvert_exporter": "python",
   "pygments_lexer": "ipython3",
   "version": "3.9.7"
  },
  "toc": {
   "base_numbering": 1,
   "nav_menu": {},
   "number_sections": true,
   "sideBar": true,
   "skip_h1_title": true,
   "title_cell": "Содержание",
   "title_sidebar": "Contents",
   "toc_cell": false,
   "toc_position": {
    "height": "calc(100% - 180px)",
    "left": "10px",
    "top": "150px",
    "width": "384px"
   },
   "toc_section_display": true,
   "toc_window_display": true
  },
  "varInspector": {
   "cols": {
    "lenName": 16,
    "lenType": 16,
    "lenVar": 40
   },
   "kernels_config": {
    "python": {
     "delete_cmd_postfix": "",
     "delete_cmd_prefix": "del ",
     "library": "var_list.py",
     "varRefreshCmd": "print(var_dic_list())"
    },
    "r": {
     "delete_cmd_postfix": ") ",
     "delete_cmd_prefix": "rm(",
     "library": "var_list.r",
     "varRefreshCmd": "cat(var_dic_list()) "
    }
   },
   "types_to_exclude": [
    "module",
    "function",
    "builtin_function_or_method",
    "instance",
    "_Feature"
   ],
   "window_display": false
  }
 },
 "nbformat": 4,
 "nbformat_minor": 2
}
